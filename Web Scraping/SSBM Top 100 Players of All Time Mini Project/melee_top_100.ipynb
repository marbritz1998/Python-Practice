{
 "cells": [
  {
   "cell_type": "markdown",
   "id": "5603b120-d008-464f-b4c7-c215691dfee3",
   "metadata": {},
   "source": [
    "# Mini Project \n",
    "## Web Scraping the Super Smash Brothers Melee Top 100 Players of All Time Wikipage"
   ]
  },
  {
   "cell_type": "markdown",
   "id": "fd9d185a-69cf-411e-8f3e-c0d05b7b6db9",
   "metadata": {},
   "source": [
    "### The goal of this project is to web scrape the SSBM Top 100 PAT and perform some Exploratory Data Analysis on the Data"
   ]
  },
  {
   "cell_type": "markdown",
   "id": "18bee7a6-0ca4-4e44-82f0-588f6911d5c4",
   "metadata": {},
   "source": [
    "**First we must import the necesary packages**"
   ]
  },
  {
   "cell_type": "code",
   "execution_count": 1,
   "id": "0bffd53a-c3e8-4767-98ff-3ef06745894c",
   "metadata": {},
   "outputs": [],
   "source": [
    "from bs4 import BeautifulSoup\n",
    "import requests\n",
    "import pandas as pd\n",
    "import numpy as np"
   ]
  },
  {
   "cell_type": "markdown",
   "id": "34a049f3-d2f6-42f0-88d0-a89365284fd3",
   "metadata": {},
   "source": [
    "**Now we obtain the url of the SSBM Top 100 PAT page and make a soup object for web scraping**"
   ]
  },
  {
   "cell_type": "code",
   "execution_count": 2,
   "id": "054d570f-9ab1-4602-a10c-32cac7e7e326",
   "metadata": {},
   "outputs": [],
   "source": [
    "url = 'https://www.ssbwiki.com/Top_100_Melee_Players_of_All_Time'\n",
    "\n",
    "data = requests.get(url)\n",
    "\n",
    "soup = BeautifulSoup(data.text, 'html.parser')"
   ]
  },
  {
   "cell_type": "markdown",
   "id": "80c11c76-3a3e-4746-b573-f761916c495f",
   "metadata": {},
   "source": [
    "**The table of information that we want is contained within a tbody tag in the HTML**"
   ]
  },
  {
   "cell_type": "code",
   "execution_count": 3,
   "id": "b91f4f66-b2e2-4672-b436-cf19878cc6c3",
   "metadata": {},
   "outputs": [],
   "source": [
    "tbody = soup.select('table')[1].find('tbody')"
   ]
  },
  {
   "cell_type": "markdown",
   "id": "71f5be49-ac6a-4001-a011-d7fefe704796",
   "metadata": {},
   "source": [
    "**We are extracting the player rank and player name from the soup object**"
   ]
  },
  {
   "cell_type": "code",
   "execution_count": 4,
   "id": "cf898d34-f06b-47ce-82b1-a8e1754e0b87",
   "metadata": {},
   "outputs": [],
   "source": [
    "rank_player_df = pd.DataFrame(columns = ['rank','player'])\n",
    "\n",
    "for row in tbody.find_all('tr'):   #multiple tr tags that needs to be parsed through\n",
    "    columns = row.find_all('td')   #each tr tag has multiple td tags that contain text information on player rank and player name\n",
    "    \n",
    "    if (columns != []):            #the first tr tag has no td tags, so there is an empty column that we must pass over\n",
    "        rank = columns[0].text.strip()   # the first td tag has text information on the player rank\n",
    "        player = columns[1].text.strip()  #the second td tag has text information on the player name\n",
    "        \n",
    "        rank_player_df = rank_player_df.append({'rank': rank, 'player': player}, ignore_index = True)"
   ]
  },
  {
   "cell_type": "markdown",
   "id": "0541b869-15d5-4d89-8a38-f83c4cec34c6",
   "metadata": {},
   "source": [
    "**Taking a brief look at our output**"
   ]
  },
  {
   "cell_type": "code",
   "execution_count": 5,
   "id": "8b9b6207-db95-4913-b975-b5be682d35de",
   "metadata": {},
   "outputs": [
    {
     "data": {
      "text/html": [
       "<div>\n",
       "<style scoped>\n",
       "    .dataframe tbody tr th:only-of-type {\n",
       "        vertical-align: middle;\n",
       "    }\n",
       "\n",
       "    .dataframe tbody tr th {\n",
       "        vertical-align: top;\n",
       "    }\n",
       "\n",
       "    .dataframe thead th {\n",
       "        text-align: right;\n",
       "    }\n",
       "</style>\n",
       "<table border=\"1\" class=\"dataframe\">\n",
       "  <thead>\n",
       "    <tr style=\"text-align: right;\">\n",
       "      <th></th>\n",
       "      <th>rank</th>\n",
       "      <th>player</th>\n",
       "    </tr>\n",
       "  </thead>\n",
       "  <tbody>\n",
       "    <tr>\n",
       "      <th>0</th>\n",
       "      <td>1</td>\n",
       "      <td>Mango</td>\n",
       "    </tr>\n",
       "    <tr>\n",
       "      <th>1</th>\n",
       "      <td>2</td>\n",
       "      <td>Armada</td>\n",
       "    </tr>\n",
       "    <tr>\n",
       "      <th>2</th>\n",
       "      <td>3</td>\n",
       "      <td>Hungrybox</td>\n",
       "    </tr>\n",
       "    <tr>\n",
       "      <th>3</th>\n",
       "      <td>4</td>\n",
       "      <td>Ken</td>\n",
       "    </tr>\n",
       "    <tr>\n",
       "      <th>4</th>\n",
       "      <td>5</td>\n",
       "      <td>Mew2King</td>\n",
       "    </tr>\n",
       "  </tbody>\n",
       "</table>\n",
       "</div>"
      ],
      "text/plain": [
       "  rank     player\n",
       "0    1      Mango\n",
       "1    2     Armada\n",
       "2    3  Hungrybox\n",
       "3    4        Ken\n",
       "4    5   Mew2King"
      ]
     },
     "execution_count": 5,
     "metadata": {},
     "output_type": "execute_result"
    }
   ],
   "source": [
    "rank_player_df.head()"
   ]
  },
  {
   "cell_type": "markdown",
   "id": "159803d3-9b91-4eed-9733-86ebff233362",
   "metadata": {},
   "source": [
    "**Now we need the characters the players use. The characters are inside a tags (hyperlink tags) so we must alter the code to accomdate this change. We will make a dataframe for the main, secondary, third, and fourth characters that each player uses, then combine the dataframes. \n",
    "First we will focus on getting the main characters each player uses**"
   ]
  },
  {
   "cell_type": "code",
   "execution_count": 6,
   "id": "1926eaa2-18a9-49e1-a3c6-607918dc19df",
   "metadata": {},
   "outputs": [],
   "source": [
    "main_df = pd.DataFrame(columns=['main'])\n",
    "\n",
    "for tr in tbody.find_all('tr'):\n",
    "    for td in tbody.find_all('td'):\n",
    "        character = td.find_all('a')    #characters inside a tags, so need to find all the a tags in each td\n",
    "        \n",
    "        if (character != []): \n",
    "            try:                                          \n",
    "                main = character[0]['title']  # the main character is in the title of the a tag\n",
    "            except:\n",
    "                main = None\n",
    "                \n",
    "            main_df = main_df.append({'main':main}, ignore_index = True)"
   ]
  },
  {
   "cell_type": "markdown",
   "id": "522dac26-981b-4f45-8db3-e362ad0d9859",
   "metadata": {},
   "source": [
    "**Now we need the secondary characters**"
   ]
  },
  {
   "cell_type": "code",
   "execution_count": 7,
   "id": "07250e91-6328-46be-96e5-2a434a759a6c",
   "metadata": {
    "tags": []
   },
   "outputs": [],
   "source": [
    "secondary_df = pd.DataFrame(columns=['secondary'])\n",
    "\n",
    "for tr in tbody.find_all('tr'):\n",
    "    for td in tbody.find_all('td'):\n",
    "        character = td.find_all('a')\n",
    "        \n",
    "        if (character != []):\n",
    "            try:\n",
    "                secondary = character[1]['title'] # secondary characer is in the second a tag in the title (if exists)\n",
    "            except:\n",
    "                secondary = None        # some players don't have secondaries\n",
    "\n",
    "            secondary_df = secondary_df.append({'secondary' : secondary}, ignore_index = True)"
   ]
  },
  {
   "cell_type": "markdown",
   "id": "c7919d1b-35f3-430d-b056-1ec834d2ec2b",
   "metadata": {},
   "source": [
    "**Now we need the Third Characters**"
   ]
  },
  {
   "cell_type": "code",
   "execution_count": 8,
   "id": "4e502660-2b69-4083-9e62-22d97172cb76",
   "metadata": {},
   "outputs": [],
   "source": [
    "third_df = pd.DataFrame(columns=['third'])\n",
    "\n",
    "for tr in tbody.find_all('tr'):\n",
    "    for td in tbody.find_all('td'):\n",
    "        character = td.find_all('a')\n",
    "        \n",
    "        if (character != []):\n",
    "            try:\n",
    "                third = character[2]['title'] #third characer is in the third a tag in the title (if exists)\n",
    "            except:\n",
    "                third = None   #some players don't have third characters\n",
    "\n",
    "            third_df = third_df.append({'third' : third}, ignore_index = True)"
   ]
  },
  {
   "cell_type": "markdown",
   "id": "1628bd54-61ce-476c-800c-a90ca7309daa",
   "metadata": {},
   "source": [
    "**Getting the Fourth Characters**"
   ]
  },
  {
   "cell_type": "code",
   "execution_count": 9,
   "id": "c3b2a633-d34c-4714-aecd-277257b4b4c3",
   "metadata": {},
   "outputs": [],
   "source": [
    "fourth_df = pd.DataFrame(columns=['fourth'])\n",
    "\n",
    "for tr in tbody.find_all('tr'):\n",
    "    for td in tbody.find_all('td'):\n",
    "        character = td.find_all('a')\n",
    "        \n",
    "        if (character != []):\n",
    "            try:\n",
    "                fourth = character[3]['title'] #fourth character is in the fourth a tag in the title (if exists)\n",
    "            except:\n",
    "                fourth = None  #some players don't have fourth characters\n",
    "\n",
    "            fourth_df = fourth_df.append({'fourth' : fourth}, ignore_index = True)"
   ]
  },
  {
   "cell_type": "markdown",
   "id": "53200c96-c796-4594-85df-a8207071f38f",
   "metadata": {},
   "source": [
    "**Have all the DataFrames containing the player and their rank, as well as individual dataframes containing their mains, secondaries, third, and fourth characters. We will make a new dataframe, all_characters and combine everything together**"
   ]
  },
  {
   "cell_type": "code",
   "execution_count": 10,
   "id": "f861f642-2525-4b45-8341-039807ea58b7",
   "metadata": {},
   "outputs": [],
   "source": [
    "all_characters = pd.DataFrame()"
   ]
  },
  {
   "cell_type": "code",
   "execution_count": 11,
   "id": "37dc37e8-87ad-488f-affc-b6bc9c6454a2",
   "metadata": {},
   "outputs": [],
   "source": [
    "all_characters['main'] = main_df['main']\n",
    "all_characters['secondary'] = secondary_df['secondary']\n",
    "all_characters['third'] = third_df['third']\n",
    "all_characters['fourth'] = fourth_df['fourth']"
   ]
  },
  {
   "cell_type": "markdown",
   "id": "390a5e22-0d08-47e7-b093-839e068897e3",
   "metadata": {},
   "source": [
    "**Looking at current results**"
   ]
  },
  {
   "cell_type": "code",
   "execution_count": 12,
   "id": "e1d57708-bb03-4ae5-9160-85f18bd919c3",
   "metadata": {},
   "outputs": [
    {
     "name": "stdout",
     "output_type": "stream",
     "text": [
      "           main          secondary              third                 fourth\n",
      "0           USA      Smasher:Mango               None                   None\n",
      "1    Fox (SSBM)       Falco (SSBM)  Jigglypuff (SSBM)  Captain Falcon (SSBM)\n",
      "2        Sweden     Smasher:Armada               None                   None\n",
      "3  Peach (SSBM)         Fox (SSBM)  Young Link (SSBM)                   None\n",
      "4           USA  Smasher:Hungrybox               None                   None\n",
      "<class 'pandas.core.frame.DataFrame'>\n",
      "RangeIndex: 20200 entries, 0 to 20199\n",
      "Data columns (total 4 columns):\n",
      " #   Column     Non-Null Count  Dtype \n",
      "---  ------     --------------  ----- \n",
      " 0   main       20200 non-null  object\n",
      " 1   secondary  15554 non-null  object\n",
      " 2   third      3232 non-null   object\n",
      " 3   fourth     1212 non-null   object\n",
      "dtypes: object(4)\n",
      "memory usage: 631.4+ KB\n",
      "None\n"
     ]
    }
   ],
   "source": [
    "print(all_characters.head())\n",
    "print(all_characters.info())"
   ]
  },
  {
   "cell_type": "markdown",
   "id": "8c8bf7be-0758-4a76-94ff-96be7f168398",
   "metadata": {},
   "source": [
    "**From the table above, we can see that all the odd rows contain the characters for the player in the row directly above, which is in the secondary column. We can also see that we have quite a bit of entries. This was due to the the variable tbody containing all the tables in the wikipage, since each table was under a tbody tag. We will remove the unnecessary entries**"
   ]
  },
  {
   "cell_type": "code",
   "execution_count": 13,
   "id": "23f77553-de49-4aa8-bff9-9017c8111df7",
   "metadata": {},
   "outputs": [],
   "source": [
    "all_characters = all_characters.loc[0:199]  #"
   ]
  },
  {
   "cell_type": "markdown",
   "id": "575ac3a2-b486-4bf9-932e-799f0f1f6000",
   "metadata": {},
   "source": [
    "**Looking at the output, we now have the top 100 players, where we have the player name and the characters directly under, having 200 entries**"
   ]
  },
  {
   "cell_type": "code",
   "execution_count": 14,
   "id": "4750fb77-b6bb-490a-803f-0389a198e53d",
   "metadata": {},
   "outputs": [
    {
     "data": {
      "text/html": [
       "<div>\n",
       "<style scoped>\n",
       "    .dataframe tbody tr th:only-of-type {\n",
       "        vertical-align: middle;\n",
       "    }\n",
       "\n",
       "    .dataframe tbody tr th {\n",
       "        vertical-align: top;\n",
       "    }\n",
       "\n",
       "    .dataframe thead th {\n",
       "        text-align: right;\n",
       "    }\n",
       "</style>\n",
       "<table border=\"1\" class=\"dataframe\">\n",
       "  <thead>\n",
       "    <tr style=\"text-align: right;\">\n",
       "      <th></th>\n",
       "      <th>main</th>\n",
       "      <th>secondary</th>\n",
       "      <th>third</th>\n",
       "      <th>fourth</th>\n",
       "    </tr>\n",
       "  </thead>\n",
       "  <tbody>\n",
       "    <tr>\n",
       "      <th>0</th>\n",
       "      <td>USA</td>\n",
       "      <td>Smasher:Mango</td>\n",
       "      <td>None</td>\n",
       "      <td>None</td>\n",
       "    </tr>\n",
       "    <tr>\n",
       "      <th>1</th>\n",
       "      <td>Fox (SSBM)</td>\n",
       "      <td>Falco (SSBM)</td>\n",
       "      <td>Jigglypuff (SSBM)</td>\n",
       "      <td>Captain Falcon (SSBM)</td>\n",
       "    </tr>\n",
       "    <tr>\n",
       "      <th>2</th>\n",
       "      <td>Sweden</td>\n",
       "      <td>Smasher:Armada</td>\n",
       "      <td>None</td>\n",
       "      <td>None</td>\n",
       "    </tr>\n",
       "    <tr>\n",
       "      <th>3</th>\n",
       "      <td>Peach (SSBM)</td>\n",
       "      <td>Fox (SSBM)</td>\n",
       "      <td>Young Link (SSBM)</td>\n",
       "      <td>None</td>\n",
       "    </tr>\n",
       "    <tr>\n",
       "      <th>4</th>\n",
       "      <td>USA</td>\n",
       "      <td>Smasher:Hungrybox</td>\n",
       "      <td>None</td>\n",
       "      <td>None</td>\n",
       "    </tr>\n",
       "  </tbody>\n",
       "</table>\n",
       "</div>"
      ],
      "text/plain": [
       "           main          secondary              third                 fourth\n",
       "0           USA      Smasher:Mango               None                   None\n",
       "1    Fox (SSBM)       Falco (SSBM)  Jigglypuff (SSBM)  Captain Falcon (SSBM)\n",
       "2        Sweden     Smasher:Armada               None                   None\n",
       "3  Peach (SSBM)         Fox (SSBM)  Young Link (SSBM)                   None\n",
       "4           USA  Smasher:Hungrybox               None                   None"
      ]
     },
     "execution_count": 14,
     "metadata": {},
     "output_type": "execute_result"
    }
   ],
   "source": [
    "all_characters.head()"
   ]
  },
  {
   "cell_type": "code",
   "execution_count": 15,
   "id": "119e3430-47a1-41ba-a563-87213b4c49ae",
   "metadata": {},
   "outputs": [
    {
     "name": "stdout",
     "output_type": "stream",
     "text": [
      "<class 'pandas.core.frame.DataFrame'>\n",
      "RangeIndex: 200 entries, 0 to 199\n",
      "Data columns (total 4 columns):\n",
      " #   Column     Non-Null Count  Dtype \n",
      "---  ------     --------------  ----- \n",
      " 0   main       200 non-null    object\n",
      " 1   secondary  154 non-null    object\n",
      " 2   third      32 non-null     object\n",
      " 3   fourth     12 non-null     object\n",
      "dtypes: object(4)\n",
      "memory usage: 6.4+ KB\n"
     ]
    }
   ],
   "source": [
    "all_characters.info()"
   ]
  },
  {
   "cell_type": "markdown",
   "id": "cdb46605-7728-432e-98a4-72e9e159f0f9",
   "metadata": {},
   "source": [
    "**We want the characters, the characters are in the rows with an odd index. We are filtering all_characters dataframe for the odd only indexes**"
   ]
  },
  {
   "cell_type": "code",
   "execution_count": 16,
   "id": "00b2c1a4-f962-4f0b-9be2-e832d4a51f0b",
   "metadata": {},
   "outputs": [],
   "source": [
    "number_list = list(np.arange(1,200,2))"
   ]
  },
  {
   "cell_type": "code",
   "execution_count": 17,
   "id": "440daa89-942e-4ef7-9783-d36a1cccede7",
   "metadata": {},
   "outputs": [],
   "source": [
    "all_characters = all_characters.loc[number_list]"
   ]
  },
  {
   "cell_type": "code",
   "execution_count": 18,
   "id": "8d6f4572-cadb-4463-9d7f-d41cc43cd8d4",
   "metadata": {},
   "outputs": [],
   "source": [
    "all_characters.reset_index(drop = True, inplace = True)"
   ]
  },
  {
   "cell_type": "markdown",
   "id": "183424cb-6de1-4564-8cef-a1d6711d93c3",
   "metadata": {},
   "source": [
    "**We now have a dataframe of just characters, matching the rank of the players**"
   ]
  },
  {
   "cell_type": "code",
   "execution_count": 19,
   "id": "08c58e04-eeba-4c0b-9b3d-bbcbc58696b2",
   "metadata": {},
   "outputs": [
    {
     "data": {
      "text/html": [
       "<div>\n",
       "<style scoped>\n",
       "    .dataframe tbody tr th:only-of-type {\n",
       "        vertical-align: middle;\n",
       "    }\n",
       "\n",
       "    .dataframe tbody tr th {\n",
       "        vertical-align: top;\n",
       "    }\n",
       "\n",
       "    .dataframe thead th {\n",
       "        text-align: right;\n",
       "    }\n",
       "</style>\n",
       "<table border=\"1\" class=\"dataframe\">\n",
       "  <thead>\n",
       "    <tr style=\"text-align: right;\">\n",
       "      <th></th>\n",
       "      <th>main</th>\n",
       "      <th>secondary</th>\n",
       "      <th>third</th>\n",
       "      <th>fourth</th>\n",
       "    </tr>\n",
       "  </thead>\n",
       "  <tbody>\n",
       "    <tr>\n",
       "      <th>0</th>\n",
       "      <td>Fox (SSBM)</td>\n",
       "      <td>Falco (SSBM)</td>\n",
       "      <td>Jigglypuff (SSBM)</td>\n",
       "      <td>Captain Falcon (SSBM)</td>\n",
       "    </tr>\n",
       "    <tr>\n",
       "      <th>1</th>\n",
       "      <td>Peach (SSBM)</td>\n",
       "      <td>Fox (SSBM)</td>\n",
       "      <td>Young Link (SSBM)</td>\n",
       "      <td>None</td>\n",
       "    </tr>\n",
       "    <tr>\n",
       "      <th>2</th>\n",
       "      <td>Jigglypuff (SSBM)</td>\n",
       "      <td>None</td>\n",
       "      <td>None</td>\n",
       "      <td>None</td>\n",
       "    </tr>\n",
       "    <tr>\n",
       "      <th>3</th>\n",
       "      <td>Marth (SSBM)</td>\n",
       "      <td>Fox (SSBM)</td>\n",
       "      <td>None</td>\n",
       "      <td>None</td>\n",
       "    </tr>\n",
       "    <tr>\n",
       "      <th>4</th>\n",
       "      <td>Marth (SSBM)</td>\n",
       "      <td>Sheik (SSBM)</td>\n",
       "      <td>Fox (SSBM)</td>\n",
       "      <td>Peach (SSBM)</td>\n",
       "    </tr>\n",
       "  </tbody>\n",
       "</table>\n",
       "</div>"
      ],
      "text/plain": [
       "                main     secondary              third                 fourth\n",
       "0         Fox (SSBM)  Falco (SSBM)  Jigglypuff (SSBM)  Captain Falcon (SSBM)\n",
       "1       Peach (SSBM)    Fox (SSBM)  Young Link (SSBM)                   None\n",
       "2  Jigglypuff (SSBM)          None               None                   None\n",
       "3       Marth (SSBM)    Fox (SSBM)               None                   None\n",
       "4       Marth (SSBM)  Sheik (SSBM)         Fox (SSBM)           Peach (SSBM)"
      ]
     },
     "execution_count": 19,
     "metadata": {},
     "output_type": "execute_result"
    }
   ],
   "source": [
    "all_characters.head()"
   ]
  },
  {
   "cell_type": "code",
   "execution_count": 20,
   "id": "04396461-b69e-4816-8484-a46884ef5f96",
   "metadata": {},
   "outputs": [
    {
     "name": "stdout",
     "output_type": "stream",
     "text": [
      "<class 'pandas.core.frame.DataFrame'>\n",
      "RangeIndex: 100 entries, 0 to 99\n",
      "Data columns (total 4 columns):\n",
      " #   Column     Non-Null Count  Dtype \n",
      "---  ------     --------------  ----- \n",
      " 0   main       100 non-null    object\n",
      " 1   secondary  54 non-null     object\n",
      " 2   third      32 non-null     object\n",
      " 3   fourth     12 non-null     object\n",
      "dtypes: object(4)\n",
      "memory usage: 3.2+ KB\n"
     ]
    }
   ],
   "source": [
    "all_characters.info()"
   ]
  },
  {
   "cell_type": "markdown",
   "id": "3d8a5483-aa06-4c28-94f1-c478c7b4c438",
   "metadata": {},
   "source": [
    "**Adding rank and player to the all_characters dataframe, since the all_characters dataframe is already ranked properly, we can just add the columns of the rank_player_df**"
   ]
  },
  {
   "cell_type": "code",
   "execution_count": 21,
   "id": "def76708-6cd0-4b23-8d78-694e874b64d7",
   "metadata": {},
   "outputs": [],
   "source": [
    "all_characters['rank'] = rank_player_df['rank']"
   ]
  },
  {
   "cell_type": "code",
   "execution_count": 22,
   "id": "9c62ee4f-bb8d-4223-bf97-bfa3c3d3ad78",
   "metadata": {},
   "outputs": [],
   "source": [
    "all_characters['player'] = rank_player_df['player']"
   ]
  },
  {
   "cell_type": "code",
   "execution_count": 23,
   "id": "07fa06a2-a91c-4c51-9c22-0294c6307f24",
   "metadata": {},
   "outputs": [],
   "source": [
    "melee_top_100 = all_characters[['rank','player','main','secondary','third','fourth']]  #reordering the columns"
   ]
  },
  {
   "cell_type": "markdown",
   "id": "d8080067-8136-45a9-8a56-cbc6492253df",
   "metadata": {},
   "source": [
    "**Looking at the output, want to remove the '(SSBM)' from each character. Going to change the datatype of the elements in the character columns to str, then apply a lambda function element-wise over the character columns to remove this**"
   ]
  },
  {
   "cell_type": "code",
   "execution_count": 24,
   "id": "5fb9acda-fd2f-4962-aec6-6301fae4487f",
   "metadata": {},
   "outputs": [
    {
     "data": {
      "text/html": [
       "<div>\n",
       "<style scoped>\n",
       "    .dataframe tbody tr th:only-of-type {\n",
       "        vertical-align: middle;\n",
       "    }\n",
       "\n",
       "    .dataframe tbody tr th {\n",
       "        vertical-align: top;\n",
       "    }\n",
       "\n",
       "    .dataframe thead th {\n",
       "        text-align: right;\n",
       "    }\n",
       "</style>\n",
       "<table border=\"1\" class=\"dataframe\">\n",
       "  <thead>\n",
       "    <tr style=\"text-align: right;\">\n",
       "      <th></th>\n",
       "      <th>rank</th>\n",
       "      <th>player</th>\n",
       "      <th>main</th>\n",
       "      <th>secondary</th>\n",
       "      <th>third</th>\n",
       "      <th>fourth</th>\n",
       "    </tr>\n",
       "  </thead>\n",
       "  <tbody>\n",
       "    <tr>\n",
       "      <th>0</th>\n",
       "      <td>1</td>\n",
       "      <td>Mango</td>\n",
       "      <td>Fox (SSBM)</td>\n",
       "      <td>Falco (SSBM)</td>\n",
       "      <td>Jigglypuff (SSBM)</td>\n",
       "      <td>Captain Falcon (SSBM)</td>\n",
       "    </tr>\n",
       "    <tr>\n",
       "      <th>1</th>\n",
       "      <td>2</td>\n",
       "      <td>Armada</td>\n",
       "      <td>Peach (SSBM)</td>\n",
       "      <td>Fox (SSBM)</td>\n",
       "      <td>Young Link (SSBM)</td>\n",
       "      <td>None</td>\n",
       "    </tr>\n",
       "    <tr>\n",
       "      <th>2</th>\n",
       "      <td>3</td>\n",
       "      <td>Hungrybox</td>\n",
       "      <td>Jigglypuff (SSBM)</td>\n",
       "      <td>None</td>\n",
       "      <td>None</td>\n",
       "      <td>None</td>\n",
       "    </tr>\n",
       "    <tr>\n",
       "      <th>3</th>\n",
       "      <td>4</td>\n",
       "      <td>Ken</td>\n",
       "      <td>Marth (SSBM)</td>\n",
       "      <td>Fox (SSBM)</td>\n",
       "      <td>None</td>\n",
       "      <td>None</td>\n",
       "    </tr>\n",
       "    <tr>\n",
       "      <th>4</th>\n",
       "      <td>5</td>\n",
       "      <td>Mew2King</td>\n",
       "      <td>Marth (SSBM)</td>\n",
       "      <td>Sheik (SSBM)</td>\n",
       "      <td>Fox (SSBM)</td>\n",
       "      <td>Peach (SSBM)</td>\n",
       "    </tr>\n",
       "  </tbody>\n",
       "</table>\n",
       "</div>"
      ],
      "text/plain": [
       "  rank     player               main     secondary              third  \\\n",
       "0    1      Mango         Fox (SSBM)  Falco (SSBM)  Jigglypuff (SSBM)   \n",
       "1    2     Armada       Peach (SSBM)    Fox (SSBM)  Young Link (SSBM)   \n",
       "2    3  Hungrybox  Jigglypuff (SSBM)          None               None   \n",
       "3    4        Ken       Marth (SSBM)    Fox (SSBM)               None   \n",
       "4    5   Mew2King       Marth (SSBM)  Sheik (SSBM)         Fox (SSBM)   \n",
       "\n",
       "                  fourth  \n",
       "0  Captain Falcon (SSBM)  \n",
       "1                   None  \n",
       "2                   None  \n",
       "3                   None  \n",
       "4           Peach (SSBM)  "
      ]
     },
     "execution_count": 24,
     "metadata": {},
     "output_type": "execute_result"
    }
   ],
   "source": [
    "melee_top_100.head()"
   ]
  },
  {
   "cell_type": "code",
   "execution_count": 25,
   "id": "c7aeccbd-73db-4ded-907e-c5012d1ce699",
   "metadata": {},
   "outputs": [],
   "source": [
    "melee_top_100 = melee_top_100.astype({'main' : str, 'secondary' : str, 'third': str, 'fourth' : str})  #changing datatype to string"
   ]
  },
  {
   "cell_type": "code",
   "execution_count": 26,
   "id": "87966a4e-0565-4139-a5ba-352efd21d5d3",
   "metadata": {},
   "outputs": [],
   "source": [
    "#Applying lambda function to the character columns to remove '(SSBM)'\n",
    "melee_top_100[['main','secondary','third','fourth']] = melee_top_100[['main','secondary','third','fourth']].applymap(lambda x: x.replace('(SSBM)', ' ').strip())"
   ]
  },
  {
   "cell_type": "markdown",
   "id": "df3a8307-7e4e-48d4-9ab2-08701b0b8679",
   "metadata": {},
   "source": [
    "**This is the data that we want, formatted how we want it**"
   ]
  },
  {
   "cell_type": "code",
   "execution_count": 27,
   "id": "96a4ece7-291c-4d7c-89c9-b4e966d8f119",
   "metadata": {},
   "outputs": [
    {
     "data": {
      "text/html": [
       "<div>\n",
       "<style scoped>\n",
       "    .dataframe tbody tr th:only-of-type {\n",
       "        vertical-align: middle;\n",
       "    }\n",
       "\n",
       "    .dataframe tbody tr th {\n",
       "        vertical-align: top;\n",
       "    }\n",
       "\n",
       "    .dataframe thead th {\n",
       "        text-align: right;\n",
       "    }\n",
       "</style>\n",
       "<table border=\"1\" class=\"dataframe\">\n",
       "  <thead>\n",
       "    <tr style=\"text-align: right;\">\n",
       "      <th></th>\n",
       "      <th>rank</th>\n",
       "      <th>player</th>\n",
       "      <th>main</th>\n",
       "      <th>secondary</th>\n",
       "      <th>third</th>\n",
       "      <th>fourth</th>\n",
       "    </tr>\n",
       "  </thead>\n",
       "  <tbody>\n",
       "    <tr>\n",
       "      <th>0</th>\n",
       "      <td>1</td>\n",
       "      <td>Mango</td>\n",
       "      <td>Fox</td>\n",
       "      <td>Falco</td>\n",
       "      <td>Jigglypuff</td>\n",
       "      <td>Captain Falcon</td>\n",
       "    </tr>\n",
       "    <tr>\n",
       "      <th>1</th>\n",
       "      <td>2</td>\n",
       "      <td>Armada</td>\n",
       "      <td>Peach</td>\n",
       "      <td>Fox</td>\n",
       "      <td>Young Link</td>\n",
       "      <td>None</td>\n",
       "    </tr>\n",
       "    <tr>\n",
       "      <th>2</th>\n",
       "      <td>3</td>\n",
       "      <td>Hungrybox</td>\n",
       "      <td>Jigglypuff</td>\n",
       "      <td>None</td>\n",
       "      <td>None</td>\n",
       "      <td>None</td>\n",
       "    </tr>\n",
       "    <tr>\n",
       "      <th>3</th>\n",
       "      <td>4</td>\n",
       "      <td>Ken</td>\n",
       "      <td>Marth</td>\n",
       "      <td>Fox</td>\n",
       "      <td>None</td>\n",
       "      <td>None</td>\n",
       "    </tr>\n",
       "    <tr>\n",
       "      <th>4</th>\n",
       "      <td>5</td>\n",
       "      <td>Mew2King</td>\n",
       "      <td>Marth</td>\n",
       "      <td>Sheik</td>\n",
       "      <td>Fox</td>\n",
       "      <td>Peach</td>\n",
       "    </tr>\n",
       "    <tr>\n",
       "      <th>...</th>\n",
       "      <td>...</td>\n",
       "      <td>...</td>\n",
       "      <td>...</td>\n",
       "      <td>...</td>\n",
       "      <td>...</td>\n",
       "      <td>...</td>\n",
       "    </tr>\n",
       "    <tr>\n",
       "      <th>95</th>\n",
       "      <td>96</td>\n",
       "      <td>ARMY</td>\n",
       "      <td>Ice Climbers</td>\n",
       "      <td>None</td>\n",
       "      <td>None</td>\n",
       "      <td>None</td>\n",
       "    </tr>\n",
       "    <tr>\n",
       "      <th>96</th>\n",
       "      <td>97</td>\n",
       "      <td>Rob$</td>\n",
       "      <td>Falco</td>\n",
       "      <td>Sheik</td>\n",
       "      <td>None</td>\n",
       "      <td>None</td>\n",
       "    </tr>\n",
       "    <tr>\n",
       "      <th>97</th>\n",
       "      <td>98</td>\n",
       "      <td>Tai</td>\n",
       "      <td>Marth</td>\n",
       "      <td>None</td>\n",
       "      <td>None</td>\n",
       "      <td>None</td>\n",
       "    </tr>\n",
       "    <tr>\n",
       "      <th>98</th>\n",
       "      <td>99</td>\n",
       "      <td>Rishi</td>\n",
       "      <td>Marth</td>\n",
       "      <td>Fox</td>\n",
       "      <td>Donkey Kong</td>\n",
       "      <td>None</td>\n",
       "    </tr>\n",
       "    <tr>\n",
       "      <th>99</th>\n",
       "      <td>100</td>\n",
       "      <td>AbsentPage</td>\n",
       "      <td>Fox</td>\n",
       "      <td>Sheik</td>\n",
       "      <td>Marth</td>\n",
       "      <td>None</td>\n",
       "    </tr>\n",
       "  </tbody>\n",
       "</table>\n",
       "<p>100 rows × 6 columns</p>\n",
       "</div>"
      ],
      "text/plain": [
       "   rank      player          main secondary        third          fourth\n",
       "0     1       Mango           Fox     Falco   Jigglypuff  Captain Falcon\n",
       "1     2      Armada         Peach       Fox   Young Link            None\n",
       "2     3   Hungrybox    Jigglypuff      None         None            None\n",
       "3     4         Ken         Marth       Fox         None            None\n",
       "4     5    Mew2King         Marth     Sheik          Fox           Peach\n",
       "..  ...         ...           ...       ...          ...             ...\n",
       "95   96        ARMY  Ice Climbers      None         None            None\n",
       "96   97        Rob$         Falco     Sheik         None            None\n",
       "97   98         Tai         Marth      None         None            None\n",
       "98   99       Rishi         Marth       Fox  Donkey Kong            None\n",
       "99  100  AbsentPage           Fox     Sheik        Marth            None\n",
       "\n",
       "[100 rows x 6 columns]"
      ]
     },
     "execution_count": 27,
     "metadata": {},
     "output_type": "execute_result"
    }
   ],
   "source": [
    "melee_top_100"
   ]
  },
  {
   "cell_type": "markdown",
   "id": "a6cfc06a-bdee-4e90-b805-5c16c689099b",
   "metadata": {},
   "source": [
    "**What character is the most popular to main in the top 100 melee players of all time?**"
   ]
  },
  {
   "cell_type": "code",
   "execution_count": 28,
   "id": "e0bc6119-223f-4a65-82b4-2ccd58fe9a5b",
   "metadata": {},
   "outputs": [
    {
     "data": {
      "text/plain": [
       "Fox               29\n",
       "Sheik             13\n",
       "Peach             10\n",
       "Marth             10\n",
       "Falco              9\n",
       "Captain Falcon     8\n",
       "Ice Climbers       6\n",
       "Jigglypuff         4\n",
       "Samus              3\n",
       "Luigi              3\n",
       "Ganondorf          2\n",
       "Pikachu            1\n",
       "Yoshi              1\n",
       "Roy                1\n",
       "Name: main, dtype: int64"
      ]
     },
     "execution_count": 28,
     "metadata": {},
     "output_type": "execute_result"
    }
   ],
   "source": [
    "melee_top_100['main'].value_counts()"
   ]
  },
  {
   "cell_type": "markdown",
   "id": "088ee77b-4dfe-47d7-bbdd-311aa5042b30",
   "metadata": {},
   "source": [
    "**What character is the most popular secondary in the top 100 melee players of all time?**"
   ]
  },
  {
   "cell_type": "code",
   "execution_count": 29,
   "id": "3f0dcf9c-7c3f-4aa0-9328-1de2f2a45d58",
   "metadata": {},
   "outputs": [
    {
     "data": {
      "text/plain": [
       "None              46\n",
       "Fox               14\n",
       "Sheik             11\n",
       "Falco              8\n",
       "Marth              5\n",
       "Captain Falcon     4\n",
       "Peach              4\n",
       "Dr. Mario          2\n",
       "Samus              1\n",
       "Young Link         1\n",
       "Ganondorf          1\n",
       "Zelda              1\n",
       "Jigglypuff         1\n",
       "Mewtwo             1\n",
       "Name: secondary, dtype: int64"
      ]
     },
     "execution_count": 29,
     "metadata": {},
     "output_type": "execute_result"
    }
   ],
   "source": [
    "melee_top_100['secondary'].value_counts()"
   ]
  },
  {
   "cell_type": "markdown",
   "id": "273162df-b43b-4761-a7d3-2e685e75e724",
   "metadata": {},
   "source": [
    "**What character is the most popular third in the top 100 melee players of all time?**"
   ]
  },
  {
   "cell_type": "code",
   "execution_count": 30,
   "id": "a753bdf2-e125-4d39-b8a8-d19348c779d2",
   "metadata": {},
   "outputs": [
    {
     "data": {
      "text/plain": [
       "None              68\n",
       "Marth              9\n",
       "Fox                5\n",
       "Sheik              5\n",
       "Falco              3\n",
       "Captain Falcon     2\n",
       "Jigglypuff         1\n",
       "Young Link         1\n",
       "Pikachu            1\n",
       "Ganondorf          1\n",
       "Peach              1\n",
       "Dr. Mario          1\n",
       "Ice Climbers       1\n",
       "Donkey Kong        1\n",
       "Name: third, dtype: int64"
      ]
     },
     "execution_count": 30,
     "metadata": {},
     "output_type": "execute_result"
    }
   ],
   "source": [
    "melee_top_100['third'].value_counts()"
   ]
  },
  {
   "cell_type": "markdown",
   "id": "eb7ad40c-b359-4f4e-8665-c13962f4ad19",
   "metadata": {},
   "source": [
    "**What character is the most popular fourth in the top 100 melee players of all time?**"
   ]
  },
  {
   "cell_type": "code",
   "execution_count": 31,
   "id": "32ceeabc-933d-4e27-8b6e-7b1e42144f92",
   "metadata": {},
   "outputs": [
    {
     "data": {
      "text/plain": [
       "None              88\n",
       "Marth              3\n",
       "Peach              2\n",
       "Young Link         2\n",
       "Captain Falcon     1\n",
       "Falco              1\n",
       "Luigi              1\n",
       "Fox                1\n",
       "Dr. Mario          1\n",
       "Name: fourth, dtype: int64"
      ]
     },
     "execution_count": 31,
     "metadata": {},
     "output_type": "execute_result"
    }
   ],
   "source": [
    "melee_top_100['fourth'].value_counts()"
   ]
  },
  {
   "cell_type": "markdown",
   "id": "bd1d3879-dbe2-47b5-9ec0-26c69e0f7848",
   "metadata": {},
   "source": [
    "**Writing the data to a csv file**"
   ]
  },
  {
   "cell_type": "code",
   "execution_count": 32,
   "id": "fb3389d9-48d0-4860-825a-35eec392c564",
   "metadata": {},
   "outputs": [],
   "source": [
    "melee_top_100.to_csv('SSBM Top 100 Players of All Time.csv', index = False)"
   ]
  }
 ],
 "metadata": {
  "kernelspec": {
   "display_name": "Python 3 (ipykernel)",
   "language": "python",
   "name": "python3"
  },
  "language_info": {
   "codemirror_mode": {
    "name": "ipython",
    "version": 3
   },
   "file_extension": ".py",
   "mimetype": "text/x-python",
   "name": "python",
   "nbconvert_exporter": "python",
   "pygments_lexer": "ipython3",
   "version": "3.8.12"
  }
 },
 "nbformat": 4,
 "nbformat_minor": 5
}
