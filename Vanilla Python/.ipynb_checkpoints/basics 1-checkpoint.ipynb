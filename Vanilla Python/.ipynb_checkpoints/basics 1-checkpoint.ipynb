{
 "cells": [
  {
   "cell_type": "markdown",
   "metadata": {},
   "source": [
    "The following Exercises can be found at https://www.w3resource.com/python-exercises/python-basic-exercises.php"
   ]
  },
  {
   "cell_type": "markdown",
   "metadata": {},
   "source": [
    "On problem 37.)"
   ]
  },
  {
   "cell_type": "markdown",
   "metadata": {
    "tags": []
   },
   "source": [
    "<div class=\"alert alert-block alert-info\">\n",
    "<b>Problem 1.) Write a Python program to print the following string in a specific format (see the output). Go to the editor\n",
    "Sample String : \"Twinkle, twinkle, little star, How I wonder what you are! Up above the world so high, Like a diamond in the sky. Twinkle, twinkle, little star, How I wonder what you are\""
   ]
  },
  {
   "cell_type": "markdown",
   "metadata": {},
   "source": [
    "Output:\n",
    "Twinkle, twinkle, little star,\n",
    "\tHow I wonder what you are! \n",
    "\t\tUp above the world so high,   \t\t\n",
    "\t\tLike a diamond in the sky. \n",
    "Twinkle, twinkle, little star, \n",
    "\tHow I wonder what you are"
   ]
  },
  {
   "cell_type": "code",
   "execution_count": 3,
   "metadata": {},
   "outputs": [
    {
     "name": "stdout",
     "output_type": "stream",
     "text": [
      "Twinkle, twinkle, little star,\n",
      "    How I wonder what you are!\n",
      "        Up above the world so high,\n",
      "        Like a diamond in the sky.\n",
      "Twinkle, twinkle, little star,\n",
      "    How I wonder what you are\n"
     ]
    }
   ],
   "source": [
    "print(\"Twinkle, twinkle, little star,\\n    How I wonder what you are!\\n        Up above the world so high,\\n        Like a diamond in the sky.\\nTwinkle, twinkle, little star,\\n    How I wonder what you are\")"
   ]
  },
  {
   "cell_type": "markdown",
   "metadata": {},
   "source": [
    "**Sample Solution 1.)**"
   ]
  },
  {
   "cell_type": "code",
   "execution_count": 4,
   "metadata": {},
   "outputs": [
    {
     "name": "stdout",
     "output_type": "stream",
     "text": [
      "Twinkle, twinkle, little star, \n",
      "\tHow I wonder what you are! \n",
      "\t\tUp above the world so high, \n",
      "\t\tLike a diamond in the sky. \n",
      "Twinkle, twinkle, little star, \n",
      "\tHow I wonder what you are!\n"
     ]
    }
   ],
   "source": [
    "print(\"Twinkle, twinkle, little star, \\n\\tHow I wonder what you are! \\n\\t\\tUp above the world so high, \\n\\t\\tLike a diamond in the sky. \\nTwinkle, twinkle, little star, \\n\\tHow I wonder what you are!\")"
   ]
  },
  {
   "cell_type": "markdown",
   "metadata": {},
   "source": [
    "Thoughts: so they introduced \"\\t\" which will do a tab when working with strings. "
   ]
  },
  {
   "cell_type": "markdown",
   "metadata": {},
   "source": [
    "<div class=\"alert alert-block alert-info\">\n",
    "<b>Problem 2.) Write a Python program to get the Python version you are using."
   ]
  },
  {
   "cell_type": "code",
   "execution_count": 5,
   "metadata": {},
   "outputs": [
    {
     "data": {
      "text/plain": [
       "'3.8.5 (default, Sep  3 2020, 21:29:08) [MSC v.1916 64 bit (AMD64)]'"
      ]
     },
     "execution_count": 5,
     "metadata": {},
     "output_type": "execute_result"
    }
   ],
   "source": [
    "import sys\n",
    "sys.version"
   ]
  },
  {
   "cell_type": "markdown",
   "metadata": {},
   "source": [
    "**Problem 3.)** Write a Python program to display the current date and time."
   ]
  },
  {
   "cell_type": "code",
   "execution_count": 6,
   "metadata": {},
   "outputs": [
    {
     "name": "stdout",
     "output_type": "stream",
     "text": [
      "2021-10-20\n"
     ]
    }
   ],
   "source": [
    "from datetime import date\n",
    "print(date.today())"
   ]
  },
  {
   "cell_type": "markdown",
   "metadata": {},
   "source": [
    "**Sample solution 3.)**"
   ]
  },
  {
   "cell_type": "code",
   "execution_count": 7,
   "metadata": {},
   "outputs": [
    {
     "name": "stdout",
     "output_type": "stream",
     "text": [
      "Current date and time : \n",
      "2021-10-20 15:48:41\n"
     ]
    }
   ],
   "source": [
    "import datetime\n",
    "now = datetime.datetime.now()\n",
    "print (\"Current date and time : \")\n",
    "print (now.strftime(\"%Y-%m-%d %H:%M:%S\"))"
   ]
  },
  {
   "cell_type": "markdown",
   "metadata": {},
   "source": [
    "**Problem 4.)** Write a Python program which accepts the radius of a circle from the user and compute the area"
   ]
  },
  {
   "cell_type": "code",
   "execution_count": 10,
   "metadata": {},
   "outputs": [],
   "source": [
    "import math\n",
    "def circle_area(radius):\n",
    "    area = math.pi * radius**2\n",
    "    return area"
   ]
  },
  {
   "cell_type": "code",
   "execution_count": 11,
   "metadata": {},
   "outputs": [
    {
     "data": {
      "text/plain": [
       "12.566370614359172"
      ]
     },
     "execution_count": 11,
     "metadata": {},
     "output_type": "execute_result"
    }
   ],
   "source": [
    "circle_area(2)"
   ]
  },
  {
   "cell_type": "markdown",
   "metadata": {},
   "source": [
    "**Sample Solution 4.)**"
   ]
  },
  {
   "cell_type": "code",
   "execution_count": 12,
   "metadata": {},
   "outputs": [
    {
     "name": "stdin",
     "output_type": "stream",
     "text": [
      "Input the radius of the circle :  2\n"
     ]
    },
    {
     "name": "stdout",
     "output_type": "stream",
     "text": [
      "The area of the circle with radius 2.0 is: 12.566370614359172\n"
     ]
    }
   ],
   "source": [
    "from math import pi\n",
    "r = float(input (\"Input the radius of the circle : \"))\n",
    "print (\"The area of the circle with radius \" + str(r) + \" is: \" + str(pi * r**2))"
   ]
  },
  {
   "cell_type": "markdown",
   "metadata": {},
   "source": [
    "**Problem 5.)** Write a Python program which accepts the user's first and last name and print them in reverse order with a space between them"
   ]
  },
  {
   "cell_type": "code",
   "execution_count": 33,
   "metadata": {},
   "outputs": [],
   "source": [
    "list1 = ['m','a','t','t', \" \",'b', 'r']\n",
    "list2 = []\n",
    "i = -1\n",
    "for element in list1:\n",
    "    list2.append(list1[i])\n",
    "    i-=1"
   ]
  },
  {
   "cell_type": "code",
   "execution_count": 34,
   "metadata": {},
   "outputs": [
    {
     "name": "stdout",
     "output_type": "stream",
     "text": [
      "rb ttam\n"
     ]
    }
   ],
   "source": [
    "name = ''.join(list2)\n",
    "print(name)"
   ]
  },
  {
   "cell_type": "code",
   "execution_count": 1,
   "metadata": {},
   "outputs": [
    {
     "name": "stdin",
     "output_type": "stream",
     "text": [
      "what is your first and last name Matthew Britzman\n"
     ]
    },
    {
     "name": "stdout",
     "output_type": "stream",
     "text": [
      "namztirB wehttaM\n"
     ]
    }
   ],
   "source": [
    "full_name = str(input('what is your first and last name'))\n",
    "full_name_reversed = []\n",
    "i = -1\n",
    "for element in full_name:\n",
    "    full_name_reversed.append(full_name[i])\n",
    "    i-=1\n",
    "reversed_name = ''.join(full_name_reversed)\n",
    "print(reversed_name)"
   ]
  },
  {
   "cell_type": "markdown",
   "metadata": {},
   "source": [
    "**Sample Solution 5.)** "
   ]
  },
  {
   "cell_type": "code",
   "execution_count": 36,
   "metadata": {},
   "outputs": [
    {
     "name": "stdin",
     "output_type": "stream",
     "text": [
      "Input your First Name :  Matthew\n",
      "Input your Last Name :  Britzman\n"
     ]
    },
    {
     "name": "stdout",
     "output_type": "stream",
     "text": [
      "Hello  Britzman Matthew\n"
     ]
    }
   ],
   "source": [
    "fname = input(\"Input your First Name : \")\n",
    "lname = input(\"Input your Last Name : \")\n",
    "print (\"Hello  \" + lname + \" \" + fname)"
   ]
  },
  {
   "cell_type": "markdown",
   "metadata": {},
   "source": [
    "Thoughts: okay, I interpreted the question to reverse the order of the characters and the first and last name"
   ]
  },
  {
   "cell_type": "markdown",
   "metadata": {},
   "source": [
    "<div class=\"alert alert-block alert-info\">\n",
    "<b>Problem 6.) Write a Python program which accepts a sequence of comma-separated numbers from user and generate a list and a tuple with those numbers"
   ]
  },
  {
   "cell_type": "code",
   "execution_count": 48,
   "metadata": {},
   "outputs": [
    {
     "name": "stdin",
     "output_type": "stream",
     "text": [
      "Input a sequence of comm-separated numbers: 0,44,568,aaa,89554,2,3,5,6\n"
     ]
    },
    {
     "name": "stdout",
     "output_type": "stream",
     "text": [
      "List: ['0', '4', '4', '5', '6', '8', 'a', 'a', 'a', '8', '9', '5', '5', '4', '2', '3', '5', '6']\n",
      "Tuple: ('0', '4', '4', '5', '6', '8', 'a', 'a', 'a', '8', '9', '5', '5', '4', '2', '3', '5', '6')\n"
     ]
    }
   ],
   "source": [
    "user_input = input('Input a sequence of comm-separated numbers:')\n",
    "user_list = list(user_input)\n",
    "for element in user_list:\n",
    "    if element == ',':\n",
    "        user_list.remove(element)\n",
    "print('List:',user_list)\n",
    "user_tuple = list(user_input)\n",
    "for element in user_tuple:\n",
    "    if element == ',':\n",
    "        user_tuple.remove(element)\n",
    "print('Tuple:',tuple(user_tuple))"
   ]
  },
  {
   "cell_type": "markdown",
   "metadata": {},
   "source": [
    "**Sample Solution 6**"
   ]
  },
  {
   "cell_type": "code",
   "execution_count": 49,
   "metadata": {},
   "outputs": [
    {
     "name": "stdin",
     "output_type": "stream",
     "text": [
      "Input some comma seprated numbers :  0,11,222,aaa\n"
     ]
    },
    {
     "name": "stdout",
     "output_type": "stream",
     "text": [
      "List :  ['0', '11', '222', 'aaa']\n",
      "Tuple :  ('0', '11', '222', 'aaa')\n"
     ]
    }
   ],
   "source": [
    "values = input(\"Input some comma seprated numbers : \")\n",
    "list = values.split(\",\")\n",
    "tuple = tuple(list)\n",
    "print('List : ',list)\n",
    "print('Tuple : ',tuple)"
   ]
  },
  {
   "cell_type": "markdown",
   "metadata": {},
   "source": [
    "**Probelm 7.)** Write a Python program to accept a filename from the user and print the extension of that."
   ]
  },
  {
   "cell_type": "code",
   "execution_count": 8,
   "metadata": {},
   "outputs": [
    {
     "name": "stdin",
     "output_type": "stream",
     "text": [
      "Type your file name the-cat.ipynb\n"
     ]
    },
    {
     "name": "stdout",
     "output_type": "stream",
     "text": [
      "ipynb\n"
     ]
    }
   ],
   "source": [
    "user_input = str(input('Type your file name'))\n",
    "user_input_list = user_input.split(\".\")\n",
    "print(user_input_list[-1])"
   ]
  },
  {
   "cell_type": "markdown",
   "metadata": {},
   "source": [
    "**Sample Solution 7.)**"
   ]
  },
  {
   "cell_type": "code",
   "execution_count": 6,
   "metadata": {},
   "outputs": [
    {
     "name": "stdin",
     "output_type": "stream",
     "text": [
      "Input the Filename:  the_.cat.ipynb\n"
     ]
    },
    {
     "name": "stdout",
     "output_type": "stream",
     "text": [
      "The extension of the file is : 'ipynb'\n"
     ]
    }
   ],
   "source": [
    "filename = input(\"Input the Filename: \")\n",
    "f_extns = filename.split(\".\")\n",
    "print (\"The extension of the file is : \" + repr(f_extns[-1]))"
   ]
  },
  {
   "cell_type": "markdown",
   "metadata": {},
   "source": [
    "**Problem 8.)** Write a Python program to display the first and last colors from the following list"
   ]
  },
  {
   "cell_type": "code",
   "execution_count": 10,
   "metadata": {},
   "outputs": [
    {
     "name": "stdout",
     "output_type": "stream",
     "text": [
      "Red\n",
      "Black\n"
     ]
    }
   ],
   "source": [
    "color_list = [\"Red\",\"Green\",\"White\" ,\"Black\"]\n",
    "print(color_list[0])\n",
    "print(color_list[-1])"
   ]
  },
  {
   "cell_type": "markdown",
   "metadata": {},
   "source": [
    "**Sample Solution 8.)**"
   ]
  },
  {
   "cell_type": "code",
   "execution_count": 12,
   "metadata": {},
   "outputs": [
    {
     "name": "stdout",
     "output_type": "stream",
     "text": [
      "Red Black\n"
     ]
    }
   ],
   "source": [
    "color_list = [\"Red\",\"Green\",\"White\" ,\"Black\"]\n",
    "print( \"%s %s\"%(color_list[0],color_list[-1]))"
   ]
  },
  {
   "cell_type": "markdown",
   "metadata": {},
   "source": [
    "<div class=\"alert alert-block alert-info\">\n",
    "<b>Problem 9.) Write a Python program to display the examination schedule. (extract the date from exam_st_date)"
   ]
  },
  {
   "cell_type": "markdown",
   "metadata": {},
   "source": [
    "exam_st_date = (11, 12, 2014)\n",
    "Sample Output : The examination will start from : 11 / 12 / 2014"
   ]
  },
  {
   "cell_type": "code",
   "execution_count": 14,
   "metadata": {},
   "outputs": [
    {
     "name": "stdout",
     "output_type": "stream",
     "text": [
      "The examination will start from : 11 / 12 / 2014\n"
     ]
    }
   ],
   "source": [
    "exam_st_date = (11,12,2014)\n",
    "print('The examination will start from : '\"%s / %s / %s\"%(exam_st_date[0], exam_st_date[1], exam_st_date[2]))"
   ]
  },
  {
   "cell_type": "markdown",
   "metadata": {},
   "source": [
    "**Sample Solution 9.)**"
   ]
  },
  {
   "cell_type": "code",
   "execution_count": 15,
   "metadata": {},
   "outputs": [
    {
     "name": "stdout",
     "output_type": "stream",
     "text": [
      "The examination will start from : 11 / 12 / 2014\n"
     ]
    }
   ],
   "source": [
    "exam_st_date = (11,12,2014)\n",
    "print( \"The examination will start from : %i / %i / %i\"%exam_st_date)"
   ]
  },
  {
   "cell_type": "code",
   "execution_count": 16,
   "metadata": {},
   "outputs": [
    {
     "name": "stdout",
     "output_type": "stream",
     "text": [
      "The examination will start from : 11 / 12 / 2014\n"
     ]
    }
   ],
   "source": [
    "exam_st_date = (11,12,2014)\n",
    "print( \"The examination will start from : %s / %s / %s\"%exam_st_date)"
   ]
  },
  {
   "cell_type": "markdown",
   "metadata": {},
   "source": [
    "<div class=\"alert alert-block alert-info\">\n",
    "<b>Problem 10.) Write a Python program that accepts an integer (n) and computes the value of n+nn+nnn"
   ]
  },
  {
   "cell_type": "code",
   "execution_count": 25,
   "metadata": {},
   "outputs": [
    {
     "name": "stdin",
     "output_type": "stream",
     "text": [
      "Type an integer 5\n"
     ]
    },
    {
     "name": "stdout",
     "output_type": "stream",
     "text": [
      "615\n"
     ]
    }
   ],
   "source": [
    "user_integer = int(input(\"Type an integer\"))\n",
    "user_integer_nn = int(str(user_integer) + str(user_integer))\n",
    "user_integer_nnn = int(str(user_integer) + str(user_integer) + str(user_integer))\n",
    "output = user_integer + user_integer_nn + user_integer_nnn\n",
    "print(output)"
   ]
  },
  {
   "cell_type": "markdown",
   "metadata": {},
   "source": [
    "**Sample Solution 10.)** "
   ]
  },
  {
   "cell_type": "code",
   "execution_count": 23,
   "metadata": {},
   "outputs": [
    {
     "name": "stdin",
     "output_type": "stream",
     "text": [
      "Input an integer :  5\n"
     ]
    },
    {
     "name": "stdout",
     "output_type": "stream",
     "text": [
      "615\n"
     ]
    }
   ],
   "source": [
    "a = int(input(\"Input an integer : \"))\n",
    "n1 = int( \"%s\" % a )\n",
    "n2 = int( \"%s%s\" % (a,a) )\n",
    "n3 = int( \"%s%s%s\" % (a,a,a) )\n",
    "print (n1+n2+n3)"
   ]
  },
  {
   "cell_type": "markdown",
   "metadata": {},
   "source": [
    "**Thoughts**: Note that both my solution and the sample solution only work for postive integers"
   ]
  },
  {
   "cell_type": "markdown",
   "metadata": {},
   "source": [
    "<div class=\"alert alert-block alert-danger\">\n",
    "<b>Problem 11.) Write a Python program to print the documents (syntax, description etc.) of Python built-in function(s)"
   ]
  },
  {
   "cell_type": "markdown",
   "metadata": {},
   "source": [
    "Sample function : abs()\n",
    "Expected Result :\n",
    "abs(number) -> number\n",
    "Return the absolute value of the argument."
   ]
  },
  {
   "cell_type": "code",
   "execution_count": 27,
   "metadata": {},
   "outputs": [
    {
     "name": "stdin",
     "output_type": "stream",
     "text": [
      "input a built-in python function abs()\n"
     ]
    },
    {
     "name": "stdout",
     "output_type": "stream",
     "text": [
      "No Python documentation found for 'abs()'.\n",
      "Use help() to get the interactive help utility.\n",
      "Use help(str) for help on the str class.\n",
      "\n",
      "None\n"
     ]
    }
   ],
   "source": [
    "function = input(\"input a built-in python function\")\n",
    "print(help(function))  #that didn't work"
   ]
  },
  {
   "cell_type": "markdown",
   "metadata": {},
   "source": [
    "**Sample Solution 11.)**"
   ]
  },
  {
   "cell_type": "code",
   "execution_count": 29,
   "metadata": {},
   "outputs": [
    {
     "name": "stdout",
     "output_type": "stream",
     "text": [
      "Return the absolute value of the argument.\n"
     ]
    }
   ],
   "source": [
    "print(abs.__doc__)"
   ]
  },
  {
   "cell_type": "code",
   "execution_count": 32,
   "metadata": {},
   "outputs": [
    {
     "name": "stdout",
     "output_type": "stream",
     "text": [
      "Define the builtin 'help'.\n",
      "\n",
      "    This is a wrapper around pydoc.help that provides a helpful message\n",
      "    when 'help' is typed at the Python interactive prompt.\n",
      "\n",
      "    Calling help() at the Python prompt starts an interactive help session.\n",
      "    Calling help(thing) prints help for the python object 'thing'.\n",
      "    \n"
     ]
    }
   ],
   "source": [
    "print(help.__doc__)"
   ]
  },
  {
   "cell_type": "markdown",
   "metadata": {},
   "source": [
    "**Problem 12.)** Write a Python program to print the calendar of a given month and year.\n",
    "Note : Use 'calendar' module."
   ]
  },
  {
   "cell_type": "code",
   "execution_count": 9,
   "metadata": {
    "tags": []
   },
   "outputs": [
    {
     "name": "stdout",
     "output_type": "stream",
     "text": [
      "   November 2021\n",
      "Mo Tu We Th Fr Sa Su\n",
      " 1  2  3  4  5  6  7\n",
      " 8  9 10 11 12 13 14\n",
      "15 16 17 18 19 20 21\n",
      "22 23 24 25 26 27 28\n",
      "29 30\n",
      "\n"
     ]
    }
   ],
   "source": [
    "import calendar\n",
    "print(calendar.month(2021,11))"
   ]
  },
  {
   "cell_type": "markdown",
   "metadata": {},
   "source": [
    "**Sample Solution 12.)**"
   ]
  },
  {
   "cell_type": "code",
   "execution_count": 8,
   "metadata": {},
   "outputs": [
    {
     "name": "stdin",
     "output_type": "stream",
     "text": [
      "Input the year :  2021\n",
      "Input the month :  11\n"
     ]
    },
    {
     "name": "stdout",
     "output_type": "stream",
     "text": [
      "   November 2021\n",
      "Mo Tu We Th Fr Sa Su\n",
      " 1  2  3  4  5  6  7\n",
      " 8  9 10 11 12 13 14\n",
      "15 16 17 18 19 20 21\n",
      "22 23 24 25 26 27 28\n",
      "29 30\n",
      "\n"
     ]
    }
   ],
   "source": [
    "import calendar\n",
    "y = int(input(\"Input the year : \"))\n",
    "m = int(input(\"Input the month : \"))\n",
    "print(calendar.month(y, m))"
   ]
  },
  {
   "cell_type": "markdown",
   "metadata": {},
   "source": [
    "<div class=\"alert alert-block alert-info\">\n",
    "<b>Problem 13.) Write a Python program to print the following 'here document'"
   ]
  },
  {
   "cell_type": "code",
   "execution_count": 10,
   "metadata": {},
   "outputs": [
    {
     "name": "stdout",
     "output_type": "stream",
     "text": [
      "here document\n"
     ]
    }
   ],
   "source": [
    "print('here document')"
   ]
  },
  {
   "cell_type": "markdown",
   "metadata": {},
   "source": [
    "**Sample Solution 13.)**"
   ]
  },
  {
   "cell_type": "code",
   "execution_count": 11,
   "metadata": {},
   "outputs": [
    {
     "name": "stdout",
     "output_type": "stream",
     "text": [
      "\n",
      "a string that you \"don't\" have to escape\n",
      "This\n",
      "is a  ....... multi-line\n",
      "heredoc string --------> example\n",
      "\n"
     ]
    }
   ],
   "source": [
    "print(\"\"\"\n",
    "a string that you \"don't\" have to escape\n",
    "This\n",
    "is a  ....... multi-line\n",
    "heredoc string --------> example\n",
    "\"\"\")"
   ]
  },
  {
   "cell_type": "markdown",
   "metadata": {},
   "source": [
    "<div class=\"alert alert-block alert-info\">\n",
    "<b>Problem 14.) Write a Python program to calculate number of days between two dates."
   ]
  },
  {
   "cell_type": "markdown",
   "metadata": {},
   "source": [
    "Sample dates : (2014, 7, 2), (2014, 7, 11)\n",
    "Expected output : 9 days"
   ]
  },
  {
   "cell_type": "code",
   "execution_count": 13,
   "metadata": {},
   "outputs": [
    {
     "name": "stdout",
     "output_type": "stream",
     "text": [
      "Number of days between the dates is 9 days, 0:00:00\n"
     ]
    }
   ],
   "source": [
    "from datetime import date\n",
    "date1 = date(2014,7,2)\n",
    "date2 = date(2014,7,11)\n",
    "diff = abs(date1 - date2)\n",
    "print(\"Number of days between the dates is \" + str(diff))\n",
    "\n"
   ]
  },
  {
   "cell_type": "markdown",
   "metadata": {},
   "source": [
    "**Sample Solution 14.)** "
   ]
  },
  {
   "cell_type": "code",
   "execution_count": 14,
   "metadata": {},
   "outputs": [
    {
     "name": "stdout",
     "output_type": "stream",
     "text": [
      "9\n"
     ]
    }
   ],
   "source": [
    "from datetime import date\n",
    "f_date = date(2014, 7, 2)\n",
    "l_date = date(2014, 7, 11)\n",
    "delta = l_date - f_date\n",
    "print(delta.days)"
   ]
  },
  {
   "cell_type": "markdown",
   "metadata": {},
   "source": [
    "**Problem 15.)** Write a Python program to get the volume of a sphere with radius 6"
   ]
  },
  {
   "cell_type": "code",
   "execution_count": 18,
   "metadata": {},
   "outputs": [],
   "source": [
    "import math\n",
    "def sphere_vol(radius):\n",
    "    sphere_vol = math.pi * radius**3 * (4/3)\n",
    "    return sphere_vol"
   ]
  },
  {
   "cell_type": "code",
   "execution_count": 19,
   "metadata": {},
   "outputs": [
    {
     "data": {
      "text/plain": [
       "904.7786842338603"
      ]
     },
     "execution_count": 19,
     "metadata": {},
     "output_type": "execute_result"
    }
   ],
   "source": [
    "sphere_vol(6)"
   ]
  },
  {
   "cell_type": "markdown",
   "metadata": {},
   "source": [
    "**Problem 16.)** Write a Python program to get the difference between a given number and 17, if the number is greater than 17 return double the absolute difference"
   ]
  },
  {
   "cell_type": "code",
   "execution_count": 23,
   "metadata": {},
   "outputs": [
    {
     "name": "stdin",
     "output_type": "stream",
     "text": [
      "type a number 20\n"
     ]
    },
    {
     "name": "stdout",
     "output_type": "stream",
     "text": [
      "6.0\n"
     ]
    }
   ],
   "source": [
    "user_in = float(input(\"type a number\"))\n",
    "if user_in > 17:\n",
    "    print( abs(user_in - 17) *2)\n",
    "else:\n",
    "    print(user_in - 17)"
   ]
  },
  {
   "cell_type": "markdown",
   "metadata": {},
   "source": [
    "**Sample Solution 16.)** "
   ]
  },
  {
   "cell_type": "markdown",
   "metadata": {},
   "source": [
    "def difference(n):\n",
    "    if n <= 17:\n",
    "        return 17 - n\n",
    "    else:\n",
    "        return (n - 17) * 2 \n",
    "\n",
    "print(difference(22))\n",
    "print(difference(14))"
   ]
  },
  {
   "cell_type": "markdown",
   "metadata": {},
   "source": [
    "**Problem 17.)** Write a Python program to test whether a number is within 100 of 1000 or 2000"
   ]
  },
  {
   "cell_type": "code",
   "execution_count": 38,
   "metadata": {},
   "outputs": [
    {
     "name": "stdin",
     "output_type": "stream",
     "text": [
      "type a number 2101\n"
     ]
    },
    {
     "name": "stdout",
     "output_type": "stream",
     "text": [
      "2101.0 is not within 100 of 1000 or 2000\n"
     ]
    }
   ],
   "source": [
    "number = float(input(\"type a number\"))\n",
    "if (number + 100 >= 1000) and (number + 100 <= 1200):\n",
    "    print(str(number) + \" is within 100 of 1000\")\n",
    "elif (number + 100 >= 2000) and (number + 100 <= 2200):\n",
    "    print(str(number) + \" is within 100 of 2000\")\n",
    "else:\n",
    "    print(str(number) + \" is not within 100 of 1000 or 2000\")"
   ]
  },
  {
   "cell_type": "markdown",
   "metadata": {},
   "source": [
    "**Sample Solution 17.)** "
   ]
  },
  {
   "cell_type": "code",
   "execution_count": 39,
   "metadata": {},
   "outputs": [
    {
     "name": "stdout",
     "output_type": "stream",
     "text": [
      "True\n",
      "True\n",
      "False\n",
      "False\n"
     ]
    }
   ],
   "source": [
    "def near_thousand(n):\n",
    "      return ((abs(1000 - n) <= 100) or (abs(2000 - n) <= 100))\n",
    "print(near_thousand(1000))\n",
    "print(near_thousand(900))\n",
    "print(near_thousand(800))   \n",
    "print(near_thousand(2200))"
   ]
  },
  {
   "cell_type": "markdown",
   "metadata": {},
   "source": [
    "**Problem 18.)** Write a Python program to calculate the sum of three given numbers, if the values are equal then return three times of their sum"
   ]
  },
  {
   "cell_type": "code",
   "execution_count": 43,
   "metadata": {},
   "outputs": [
    {
     "name": "stdout",
     "output_type": "stream",
     "text": [
      "16\n"
     ]
    }
   ],
   "source": [
    "n1 = 5\n",
    "n2 = 6\n",
    "n3 = 5\n",
    "if n1 == n2 == n3:\n",
    "    n4 = (n1 + n2 + n3) * 3\n",
    "    print(n4)\n",
    "else:\n",
    "    n4 = n1 + n2 + n3\n",
    "    print(n4)"
   ]
  },
  {
   "cell_type": "markdown",
   "metadata": {},
   "source": [
    "**Sample Solution 18.)** "
   ]
  },
  {
   "cell_type": "code",
   "execution_count": 44,
   "metadata": {},
   "outputs": [
    {
     "name": "stdout",
     "output_type": "stream",
     "text": [
      "6\n",
      "27\n"
     ]
    }
   ],
   "source": [
    "def sum_thrice(x, y, z):\n",
    "\n",
    "     sum = x + y + z\n",
    "  \n",
    "     if x == y == z:\n",
    "      sum = sum * 3\n",
    "     return sum\n",
    "\n",
    "print(sum_thrice(1, 2, 3))\n",
    "print(sum_thrice(3, 3, 3))"
   ]
  },
  {
   "cell_type": "markdown",
   "metadata": {},
   "source": [
    "**Problem 19.)** Write a Python program to get a new string from a given string where \"Is\" has been added to the front. If the given string already begins with \"Is\" then return the string unchanged."
   ]
  },
  {
   "cell_type": "code",
   "execution_count": 58,
   "metadata": {},
   "outputs": [],
   "source": [
    "def Is_func(string):\n",
    "    if string.find('Is') == 0:\n",
    "        print(string)\n",
    "    else:\n",
    "        print('Is' + string)"
   ]
  },
  {
   "cell_type": "code",
   "execution_count": 59,
   "metadata": {},
   "outputs": [
    {
     "name": "stdout",
     "output_type": "stream",
     "text": [
      "0\n"
     ]
    }
   ],
   "source": [
    "string = \"Iscat\"\n",
    "print(string.find('Is'))"
   ]
  },
  {
   "cell_type": "code",
   "execution_count": 60,
   "metadata": {},
   "outputs": [
    {
     "name": "stdout",
     "output_type": "stream",
     "text": [
      "Iscat\n"
     ]
    }
   ],
   "source": [
    "Is_func('Iscat')"
   ]
  },
  {
   "cell_type": "code",
   "execution_count": 61,
   "metadata": {},
   "outputs": [
    {
     "name": "stdout",
     "output_type": "stream",
     "text": [
      "Iscat\n"
     ]
    }
   ],
   "source": [
    "Is_func('cat')"
   ]
  },
  {
   "cell_type": "markdown",
   "metadata": {},
   "source": [
    "**Sample Solution 19.)**"
   ]
  },
  {
   "cell_type": "code",
   "execution_count": 62,
   "metadata": {},
   "outputs": [
    {
     "name": "stdout",
     "output_type": "stream",
     "text": [
      "IsArray\n",
      "IsEmpty\n"
     ]
    }
   ],
   "source": [
    "def new_string(str):\n",
    "  if len(str) >= 2 and str[:2] == \"Is\":\n",
    "    return str\n",
    "  return \"Is\" + str\n",
    "\n",
    "print(new_string(\"Array\"))\n",
    "print(new_string(\"IsEmpty\"))"
   ]
  },
  {
   "cell_type": "markdown",
   "metadata": {},
   "source": [
    "**Problem 20.)** Write a Python program to get a string which is n (non-negative integer) copies of a given string"
   ]
  },
  {
   "cell_type": "code",
   "execution_count": 63,
   "metadata": {},
   "outputs": [
    {
     "name": "stdout",
     "output_type": "stream",
     "text": [
      "catcatcatcat\n"
     ]
    }
   ],
   "source": [
    "string = 'cat'\n",
    "print(string * 4)"
   ]
  },
  {
   "cell_type": "code",
   "execution_count": 64,
   "metadata": {},
   "outputs": [],
   "source": [
    "def n_string(n,string):\n",
    "    return string * n"
   ]
  },
  {
   "cell_type": "code",
   "execution_count": 66,
   "metadata": {},
   "outputs": [
    {
     "data": {
      "text/plain": [
       "'dogdogdogdogdog'"
      ]
     },
     "execution_count": 66,
     "metadata": {},
     "output_type": "execute_result"
    }
   ],
   "source": [
    "n_string(5,'dog')"
   ]
  },
  {
   "cell_type": "markdown",
   "metadata": {},
   "source": [
    "**Sample Solution 20.)**"
   ]
  },
  {
   "cell_type": "code",
   "execution_count": 67,
   "metadata": {},
   "outputs": [
    {
     "name": "stdout",
     "output_type": "stream",
     "text": [
      "abcabc\n",
      ".py.py.py\n"
     ]
    }
   ],
   "source": [
    "def larger_string(str, n):\n",
    "   result = \"\"\n",
    "   for i in range(n):\n",
    "      result = result + str\n",
    "   return result\n",
    "\n",
    "print(larger_string('abc', 2))\n",
    "print(larger_string('.py', 3))"
   ]
  },
  {
   "cell_type": "markdown",
   "metadata": {},
   "source": [
    "**Problem 21.)** Write a Python program to find whether a given number (accept from the user) is even or odd, print out an appropriate message to the user."
   ]
  },
  {
   "cell_type": "code",
   "execution_count": 70,
   "metadata": {},
   "outputs": [
    {
     "name": "stdin",
     "output_type": "stream",
     "text": [
      "type an integer 1\n"
     ]
    },
    {
     "name": "stdout",
     "output_type": "stream",
     "text": [
      "1 is odd\n"
     ]
    }
   ],
   "source": [
    "number = int(input('type an integer'))\n",
    "if number % 2 == 0:\n",
    "    print(str(number) + ' is even')\n",
    "else:\n",
    "    print(str(number) + ' is odd')"
   ]
  },
  {
   "cell_type": "markdown",
   "metadata": {},
   "source": [
    "**Problem 22.)** Write a Python program to count the number 4 in a given list"
   ]
  },
  {
   "cell_type": "code",
   "execution_count": 1,
   "metadata": {},
   "outputs": [],
   "source": [
    "#i am not sure what this is asking me..."
   ]
  },
  {
   "cell_type": "markdown",
   "metadata": {},
   "source": [
    "**Sample Solution 22.)**"
   ]
  },
  {
   "cell_type": "code",
   "execution_count": 2,
   "metadata": {},
   "outputs": [
    {
     "name": "stdout",
     "output_type": "stream",
     "text": [
      "2\n",
      "3\n"
     ]
    }
   ],
   "source": [
    "def list_count_4(nums):\n",
    "  count = 0  \n",
    "  for num in nums:\n",
    "    if num == 4:\n",
    "      count = count + 1\n",
    "\n",
    "  return count\n",
    "\n",
    "print(list_count_4([1, 4, 6, 7, 4]))\n",
    "print(list_count_4([1, 4, 6, 4, 7, 4]))"
   ]
  },
  {
   "cell_type": "markdown",
   "metadata": {},
   "source": [
    "**Problem 23.)** Write a Python program to get the n (non-negative integer) copies of the first 2 characters of a given string. Return the n copies of the whole string if the length is less than 2"
   ]
  },
  {
   "cell_type": "code",
   "execution_count": 9,
   "metadata": {},
   "outputs": [
    {
     "name": "stdout",
     "output_type": "stream",
     "text": [
      "InInIn\n"
     ]
    }
   ],
   "source": [
    "string = 'Indiana'\n",
    "n = 3    #number of copies\n",
    "if len(string) == 2:\n",
    "    print(string * n)\n",
    "else:\n",
    "    print(string[0:2] * n)\n",
    "    "
   ]
  },
  {
   "cell_type": "code",
   "execution_count": 12,
   "metadata": {},
   "outputs": [
    {
     "name": "stdout",
     "output_type": "stream",
     "text": [
      "ininin\n"
     ]
    }
   ],
   "source": [
    "string = 'in'\n",
    "n = 3    #number of copies\n",
    "print(string[0:2] * n)"
   ]
  },
  {
   "cell_type": "markdown",
   "metadata": {},
   "source": [
    "**Sample Solution 23.)**"
   ]
  },
  {
   "cell_type": "code",
   "execution_count": 13,
   "metadata": {},
   "outputs": [
    {
     "name": "stdout",
     "output_type": "stream",
     "text": [
      "abab\n",
      "ppp\n"
     ]
    }
   ],
   "source": [
    "def substring_copy(str, n):\n",
    "  flen = 2\n",
    "  if flen > len(str):\n",
    "    flen = len(str)\n",
    "  substr = str[:flen]\n",
    "  \n",
    "  result = \"\"\n",
    "  for i in range(n):\n",
    "    result = result + substr\n",
    "  return result\n",
    "print(substring_copy('abcdef', 2))\n",
    "print(substring_copy('p', 3));"
   ]
  },
  {
   "cell_type": "markdown",
   "metadata": {},
   "source": [
    "**Problem 24.)** Write a Python program to test whether a passed letter is a vowel or not"
   ]
  },
  {
   "cell_type": "code",
   "execution_count": 15,
   "metadata": {},
   "outputs": [
    {
     "name": "stdout",
     "output_type": "stream",
     "text": [
      "a is a vowel!\n"
     ]
    }
   ],
   "source": [
    "passed_letter = 'a'\n",
    "vowel = ['a','e','i','o','u']  # 'y' can sometimes be a vowel...\n",
    "if passed_letter in vowel:\n",
    "    print(passed_letter + \" is a vowel!\")\n",
    "else:\n",
    "    print(passed_letter + \" is not a vowel.\")"
   ]
  },
  {
   "cell_type": "markdown",
   "metadata": {},
   "source": [
    "**Sample Solution 24.)**"
   ]
  },
  {
   "cell_type": "code",
   "execution_count": 16,
   "metadata": {},
   "outputs": [
    {
     "name": "stdout",
     "output_type": "stream",
     "text": [
      "False\n",
      "True\n"
     ]
    }
   ],
   "source": [
    "def is_vowel(char):\n",
    "    all_vowels = 'aeiou'\n",
    "    return char in all_vowels\n",
    "print(is_vowel('c'))\n",
    "print(is_vowel('e'))"
   ]
  },
  {
   "cell_type": "markdown",
   "metadata": {},
   "source": [
    "Thoughts: so instead of using a list, like I would with numbers, I could have just put the vowels all in one string..."
   ]
  },
  {
   "cell_type": "markdown",
   "metadata": {},
   "source": [
    "**Problem 25.)** Write a Python program to check whether a specified value is contained in a group of values. Go to the editor"
   ]
  },
  {
   "cell_type": "markdown",
   "metadata": {},
   "source": [
    "Test Data :\n",
    "3 -> [1, 5, 8, 3] : True\n",
    "-1 -> [1, 5, 8, 3] : False"
   ]
  },
  {
   "cell_type": "code",
   "execution_count": 19,
   "metadata": {},
   "outputs": [
    {
     "name": "stdout",
     "output_type": "stream",
     "text": [
      "2 not in the list\n"
     ]
    }
   ],
   "source": [
    "value = 2\n",
    "if value in [1,5,8,3]:\n",
    "    print(str(value) + \" is in the list\")\n",
    "else:\n",
    "    print(str(value) + \" not in the list\")"
   ]
  },
  {
   "cell_type": "markdown",
   "metadata": {},
   "source": [
    "**Sample Solution 25.)** "
   ]
  },
  {
   "cell_type": "code",
   "execution_count": 1,
   "metadata": {},
   "outputs": [
    {
     "name": "stdout",
     "output_type": "stream",
     "text": [
      "True\n",
      "False\n"
     ]
    }
   ],
   "source": [
    "def is_group_member(group_data, n):\n",
    "   for value in group_data:\n",
    "       if n == value:\n",
    "           return True\n",
    "   return False\n",
    "print(is_group_member([1, 5, 8, 3], 3))\n",
    "print(is_group_member([5, 8, 3], -1))"
   ]
  },
  {
   "cell_type": "markdown",
   "metadata": {},
   "source": [
    "**Problem 26.)** Write a Python program to create a histogram from a given list of integers"
   ]
  },
  {
   "cell_type": "code",
   "execution_count": 1,
   "metadata": {},
   "outputs": [
    {
     "name": "stdout",
     "output_type": "stream",
     "text": [
      "**\n",
      "***\n",
      "******\n",
      "*****\n"
     ]
    }
   ],
   "source": [
    "def histogram( items ):\n",
    "    for n in items:\n",
    "        output = ''\n",
    "        times = n\n",
    "        while( times > 0 ):\n",
    "          output += '*'\n",
    "          times = times - 1\n",
    "        print(output)\n",
    "\n",
    "histogram([2, 3, 6, 5])"
   ]
  },
  {
   "cell_type": "markdown",
   "metadata": {},
   "source": [
    "<div class=\"alert alert-block alert-info\">\n",
    "<b>Problem 27.)  Write a Python program to concatenate all elements in a list into a string and return it"
   ]
  },
  {
   "cell_type": "code",
   "execution_count": 3,
   "metadata": {},
   "outputs": [
    {
     "name": "stdout",
     "output_type": "stream",
     "text": [
      "t\n",
      "h\n",
      "e\n",
      " \n",
      "c\n",
      "o\n",
      "d\n",
      "e\n",
      " \n",
      "i\n",
      "s\n",
      " \n",
      "1\n",
      "2\n",
      "5\n",
      "7\n"
     ]
    }
   ],
   "source": [
    "list1 = ['t','h','e',\" \", 'c','o','d','e', \" \",'i','s',\" \", 1,2,5,7]\n",
    "for element in list1:\n",
    "    print(str(element))"
   ]
  },
  {
   "cell_type": "markdown",
   "metadata": {},
   "source": [
    "**Sample Solution 27.)**"
   ]
  },
  {
   "cell_type": "code",
   "execution_count": 4,
   "metadata": {},
   "outputs": [
    {
     "name": "stdout",
     "output_type": "stream",
     "text": [
      "15122\n"
     ]
    }
   ],
   "source": [
    "def concatenate_list_data(list):\n",
    "    result= ''\n",
    "    for element in list:\n",
    "        result += str(element)\n",
    "    return result\n",
    "\n",
    "print(concatenate_list_data([1, 5, 12, 2]))"
   ]
  },
  {
   "cell_type": "markdown",
   "metadata": {},
   "source": [
    "Thoughts: Similiarly, how I can say list1 = [] and the append results to the list, you can do that with strings, which is what the sample solution is doing\n"
   ]
  },
  {
   "cell_type": "markdown",
   "metadata": {},
   "source": [
    "**Problem 28.)** Write a Python program to print all even numbers from a given numbers list in the same order and stop the printing if any numbers that come after 237 in the sequence"
   ]
  },
  {
   "cell_type": "code",
   "execution_count": 21,
   "metadata": {},
   "outputs": [
    {
     "name": "stdout",
     "output_type": "stream",
     "text": [
      "[230, 192, 178, 218, 92, 60, 24]\n"
     ]
    }
   ],
   "source": [
    "import numpy as np\n",
    "\n",
    "list1 = list(np.random.randint(300, size = 20))\n",
    "result = []\n",
    "for element in list1:\n",
    "    if (element < 237) & (element % 2 == 0):\n",
    "        result.append(element)\n",
    "    if element > 237:\n",
    "        break\n",
    "print(result)"
   ]
  },
  {
   "cell_type": "markdown",
   "metadata": {},
   "source": [
    "**Sample Solution 28.)** "
   ]
  },
  {
   "cell_type": "code",
   "execution_count": 22,
   "metadata": {},
   "outputs": [
    {
     "name": "stdout",
     "output_type": "stream",
     "text": [
      "386\n",
      "462\n",
      "418\n",
      "344\n",
      "236\n",
      "566\n",
      "978\n",
      "328\n",
      "162\n",
      "758\n",
      "918\n",
      "237\n"
     ]
    }
   ],
   "source": [
    "numbers = [    \n",
    "    386, 462, 47, 418, 907, 344, 236, 375, 823, 566, 597, 978, 328, 615, 953, 345, \n",
    "    399, 162, 758, 219, 918, 237, 412, 566, 826, 248, 866, 950, 626, 949, 687, 217, \n",
    "    815, 67, 104, 58, 512, 24, 892, 894, 767, 553, 81, 379, 843, 831, 445, 742, 717, \n",
    "    958,743, 527\n",
    "    ]\n",
    "\n",
    "for x in numbers:\n",
    "    if x == 237:\n",
    "        print(x)\n",
    "        break;\n",
    "    elif x % 2 == 0:\n",
    "        print(x)"
   ]
  },
  {
   "cell_type": "markdown",
   "metadata": {},
   "source": [
    "**Problem 29.)** Write a Python program to print out a set containing all the colors from color_list_1 which are not present in color_list_2."
   ]
  },
  {
   "cell_type": "code",
   "execution_count": 24,
   "metadata": {},
   "outputs": [
    {
     "name": "stdout",
     "output_type": "stream",
     "text": [
      "{'Black', 'White'}\n"
     ]
    }
   ],
   "source": [
    "color_list1 = set([\"White\", \"Black\", \"Red\"])\n",
    "color_list2 = set([\"Red\", \"Green\"])\n",
    "\n",
    "\n",
    "not_in = list()\n",
    "for color1 in color_list1:\n",
    "    if color1 not in color_list2:\n",
    "        not_in.append(color1)\n",
    "print(set(not_in))"
   ]
  },
  {
   "cell_type": "code",
   "execution_count": 26,
   "metadata": {},
   "outputs": [
    {
     "name": "stdout",
     "output_type": "stream",
     "text": [
      "{'Black', 'White'}\n"
     ]
    }
   ],
   "source": [
    "#or\n",
    "print(color_list1.difference(color_list2))"
   ]
  },
  {
   "cell_type": "markdown",
   "metadata": {},
   "source": [
    "**Problem 30)** Write a Python program that will accept the base and height of a triangle and compute the area."
   ]
  },
  {
   "cell_type": "code",
   "execution_count": 27,
   "metadata": {},
   "outputs": [],
   "source": [
    "def triangle_area(base, height):\n",
    "    area = (1/2) * base * height\n",
    "    return area"
   ]
  },
  {
   "cell_type": "code",
   "execution_count": 28,
   "metadata": {},
   "outputs": [
    {
     "data": {
      "text/plain": [
       "500.0"
      ]
     },
     "execution_count": 28,
     "metadata": {},
     "output_type": "execute_result"
    }
   ],
   "source": [
    "triangle_area(50,20)"
   ]
  },
  {
   "cell_type": "markdown",
   "metadata": {},
   "source": [
    "**Problem 31.)** Write a Python program to compute the greatest common divisor (GCD) of two positive integers"
   ]
  },
  {
   "cell_type": "code",
   "execution_count": 31,
   "metadata": {},
   "outputs": [
    {
     "name": "stdout",
     "output_type": "stream",
     "text": [
      "GCD of 12 & 17 = 1\n",
      "GCD of 4 & 6 = 2\n",
      "GCD of 336 & 360 = 24\n"
     ]
    }
   ],
   "source": [
    "#sample Solution\n",
    "def gcd(x, y):\n",
    "   gcd = 1   \n",
    "   if x % y == 0:\n",
    "       return y   \n",
    "   for k in range(int(y / 2), 0, -1):\n",
    "       if x % k == 0 and y % k == 0:\n",
    "           gcd = k\n",
    "           break \n",
    "   return gcd\n",
    "print(\"GCD of 12 & 17 =\",gcd(12, 17))\n",
    "print(\"GCD of 4 & 6 =\",gcd(4, 6))\n",
    "print(\"GCD of 336 & 360 =\",gcd(336, 360))"
   ]
  },
  {
   "cell_type": "markdown",
   "metadata": {},
   "source": [
    "**Problem 32.)** Write a Python program to get the least common multiple (LCM) of two positive integers"
   ]
  },
  {
   "cell_type": "code",
   "execution_count": 32,
   "metadata": {},
   "outputs": [
    {
     "name": "stdout",
     "output_type": "stream",
     "text": [
      "12\n",
      "255\n"
     ]
    }
   ],
   "source": [
    "#sample solution\n",
    "def lcm(x, y):\n",
    "  if x > y:\n",
    "      z = x\n",
    "  else:\n",
    "      z = y\n",
    "  while(True):\n",
    "      if((z % x == 0) and (z % y == 0)):\n",
    "          lcm = z\n",
    "          break\n",
    "      z += 1\n",
    "  return lcm\n",
    "print(lcm(4, 6))\n",
    "print(lcm(15, 17))"
   ]
  },
  {
   "cell_type": "markdown",
   "metadata": {},
   "source": [
    "**Problem 33.)** Write a Python program to sum of three given integers. However, if two values are equal sum will be zero"
   ]
  },
  {
   "cell_type": "code",
   "execution_count": 35,
   "metadata": {},
   "outputs": [
    {
     "name": "stdout",
     "output_type": "stream",
     "text": [
      "sum is 0\n"
     ]
    }
   ],
   "source": [
    "int1 = 5\n",
    "int2 = 6\n",
    "int3 = 6\n",
    "\n",
    "if (int1 == int2) | (int1 == int3) | (int2 == int3):\n",
    "    print('sum is 0')\n",
    "else:\n",
    "    sum1 = int1 + int2 + int3\n",
    "    print('sum is ' + str(sum1))"
   ]
  },
  {
   "cell_type": "code",
   "execution_count": 36,
   "metadata": {},
   "outputs": [
    {
     "name": "stdout",
     "output_type": "stream",
     "text": [
      "sum is 13\n"
     ]
    }
   ],
   "source": [
    "int1 = 5\n",
    "int2 = 6\n",
    "int3 = 2\n",
    "\n",
    "if (int1 == int2) | (int1 == int3) | (int2 == int3):\n",
    "    print('sum is 0')\n",
    "else:\n",
    "    sum1 = int1 + int2 + int3\n",
    "    print('sum is ' + str(sum1))"
   ]
  },
  {
   "cell_type": "markdown",
   "metadata": {},
   "source": [
    "**Problem 34)** Write a Python program to sum of two given integers. However, if the sum is between 15 to 20 it will return 20"
   ]
  },
  {
   "cell_type": "code",
   "execution_count": 41,
   "metadata": {},
   "outputs": [
    {
     "name": "stdout",
     "output_type": "stream",
     "text": [
      "6\n"
     ]
    }
   ],
   "source": [
    "int1 = 1\n",
    "int2 = 5\n",
    "sum1 = int1 + int2\n",
    "\n",
    "if sum1 > 15 & sum1 < 20:\n",
    "    print(20)\n",
    "else:\n",
    "    print(sum1)"
   ]
  },
  {
   "cell_type": "code",
   "execution_count": 42,
   "metadata": {},
   "outputs": [
    {
     "name": "stdout",
     "output_type": "stream",
     "text": [
      "20\n",
      "12\n",
      "22\n"
     ]
    }
   ],
   "source": [
    "def sum(x, y):\n",
    "    sum = x + y\n",
    "    if sum in range(15, 20):\n",
    "        return 20\n",
    "    else:\n",
    "        return sum\n",
    "\n",
    "print(sum(10, 6))\n",
    "print(sum(10, 2))\n",
    "print(sum(10, 12))"
   ]
  },
  {
   "cell_type": "markdown",
   "metadata": {},
   "source": [
    "**Problem 35.)** Write a Python program that will return true if the two given integer values are equal or their sum or difference is 5"
   ]
  },
  {
   "cell_type": "code",
   "execution_count": 46,
   "metadata": {},
   "outputs": [
    {
     "name": "stdout",
     "output_type": "stream",
     "text": [
      "True\n"
     ]
    }
   ],
   "source": [
    "int1 = 2\n",
    "int2 = 1\n",
    "\n",
    "if (int1 == int2) | (abs(int1 + int2) < 5):\n",
    "    print(True)\n",
    "else:\n",
    "    print(False)"
   ]
  },
  {
   "cell_type": "markdown",
   "metadata": {},
   "source": [
    "<div class=\"alert alert-block alert-info\">\n",
    "<b>Problem 36.) Write a Python program to add two objects if both objects are an integer type"
   ]
  },
  {
   "cell_type": "code",
   "execution_count": 60,
   "metadata": {},
   "outputs": [],
   "source": [
    "def add_int(object1, object2):\n",
    "    if (type(object2) == int) and (type(object1) == int):\n",
    "        return object1 + object2\n",
    "    else:\n",
    "        print('objects are not both integers')"
   ]
  },
  {
   "cell_type": "code",
   "execution_count": 61,
   "metadata": {},
   "outputs": [
    {
     "data": {
      "text/plain": [
       "11"
      ]
     },
     "execution_count": 61,
     "metadata": {},
     "output_type": "execute_result"
    }
   ],
   "source": [
    "add_int(5,6)"
   ]
  },
  {
   "cell_type": "code",
   "execution_count": 62,
   "metadata": {},
   "outputs": [
    {
     "name": "stdout",
     "output_type": "stream",
     "text": [
      "objects are not both integers\n"
     ]
    }
   ],
   "source": [
    "add_int(5,'a')"
   ]
  },
  {
   "cell_type": "markdown",
   "metadata": {},
   "source": [
    "**Sample Solution 36.)**"
   ]
  },
  {
   "cell_type": "code",
   "execution_count": 63,
   "metadata": {},
   "outputs": [
    {
     "name": "stdout",
     "output_type": "stream",
     "text": [
      "30\n",
      "Inputs must be integers!\n",
      "Inputs must be integers!\n",
      "Inputs must be integers!\n"
     ]
    }
   ],
   "source": [
    "def add_numbers(a, b):\n",
    "   if not (isinstance(a, int) and isinstance(b, int)):\n",
    "       return \"Inputs must be integers!\"\n",
    "   return a + b\n",
    "print(add_numbers(10, 20))\n",
    "print(add_numbers(10, 20.23))\n",
    "print(add_numbers('5', 6))\n",
    "print(add_numbers('5', '6'))"
   ]
  },
  {
   "cell_type": "code",
   "execution_count": null,
   "metadata": {},
   "outputs": [],
   "source": []
  }
 ],
 "metadata": {
  "kernelspec": {
   "display_name": "Python 3 (ipykernel)",
   "language": "python",
   "name": "python3"
  },
  "language_info": {
   "codemirror_mode": {
    "name": "ipython",
    "version": 3
   },
   "file_extension": ".py",
   "mimetype": "text/x-python",
   "name": "python",
   "nbconvert_exporter": "python",
   "pygments_lexer": "ipython3",
   "version": "3.8.12"
  }
 },
 "nbformat": 4,
 "nbformat_minor": 4
}
