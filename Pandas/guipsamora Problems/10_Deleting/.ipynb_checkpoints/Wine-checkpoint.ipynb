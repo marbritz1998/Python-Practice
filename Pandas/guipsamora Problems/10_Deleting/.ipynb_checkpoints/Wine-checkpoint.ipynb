{
 "cells": [
  {
   "cell_type": "markdown",
   "id": "66d2cc79-a34d-4e52-b7fb-2578fc92f54d",
   "metadata": {},
   "source": [
    "# **Wine**"
   ]
  },
  {
   "cell_type": "markdown",
   "id": "ca4b1bfb-a544-4b05-818e-229eb59169f0",
   "metadata": {},
   "source": [
    "### **Step 1. Import the necessary libraries**"
   ]
  },
  {
   "cell_type": "code",
   "execution_count": 1,
   "id": "63848740-6068-4d3d-8260-f2994d50e877",
   "metadata": {},
   "outputs": [],
   "source": [
    "import pandas as pd\n",
    "import numpy as np"
   ]
  },
  {
   "cell_type": "markdown",
   "id": "71b7eb00-7ec9-48d5-a6e2-532a39ecdf42",
   "metadata": {},
   "source": [
    "### **Step 3. Assign it to a variable called wine**"
   ]
  },
  {
   "cell_type": "code",
   "execution_count": 8,
   "id": "6d523d2b-e315-4b5d-af0b-2672440e1ab1",
   "metadata": {},
   "outputs": [],
   "source": [
    "wine = pd.read_csv('wine.data', header = None)"
   ]
  },
  {
   "cell_type": "markdown",
   "id": "0271f151-753f-43dc-9636-5d194a0adebc",
   "metadata": {},
   "source": [
    "### **Step 4. Delete the first, fourth, seventh, nineth, eleventh, thirteenth and fourteenth columns**"
   ]
  },
  {
   "cell_type": "code",
   "execution_count": 9,
   "id": "d9b67b6d-821e-4b89-bf35-3714cf9de5bb",
   "metadata": {},
   "outputs": [
    {
     "data": {
      "text/html": [
       "<div>\n",
       "<style scoped>\n",
       "    .dataframe tbody tr th:only-of-type {\n",
       "        vertical-align: middle;\n",
       "    }\n",
       "\n",
       "    .dataframe tbody tr th {\n",
       "        vertical-align: top;\n",
       "    }\n",
       "\n",
       "    .dataframe thead th {\n",
       "        text-align: right;\n",
       "    }\n",
       "</style>\n",
       "<table border=\"1\" class=\"dataframe\">\n",
       "  <thead>\n",
       "    <tr style=\"text-align: right;\">\n",
       "      <th></th>\n",
       "      <th>0</th>\n",
       "      <th>1</th>\n",
       "      <th>2</th>\n",
       "      <th>3</th>\n",
       "      <th>4</th>\n",
       "      <th>5</th>\n",
       "      <th>6</th>\n",
       "      <th>7</th>\n",
       "      <th>8</th>\n",
       "      <th>9</th>\n",
       "      <th>10</th>\n",
       "      <th>11</th>\n",
       "      <th>12</th>\n",
       "      <th>13</th>\n",
       "    </tr>\n",
       "  </thead>\n",
       "  <tbody>\n",
       "    <tr>\n",
       "      <th>0</th>\n",
       "      <td>1</td>\n",
       "      <td>14.23</td>\n",
       "      <td>1.71</td>\n",
       "      <td>2.43</td>\n",
       "      <td>15.6</td>\n",
       "      <td>127</td>\n",
       "      <td>2.80</td>\n",
       "      <td>3.06</td>\n",
       "      <td>0.28</td>\n",
       "      <td>2.29</td>\n",
       "      <td>5.64</td>\n",
       "      <td>1.04</td>\n",
       "      <td>3.92</td>\n",
       "      <td>1065</td>\n",
       "    </tr>\n",
       "    <tr>\n",
       "      <th>1</th>\n",
       "      <td>1</td>\n",
       "      <td>13.20</td>\n",
       "      <td>1.78</td>\n",
       "      <td>2.14</td>\n",
       "      <td>11.2</td>\n",
       "      <td>100</td>\n",
       "      <td>2.65</td>\n",
       "      <td>2.76</td>\n",
       "      <td>0.26</td>\n",
       "      <td>1.28</td>\n",
       "      <td>4.38</td>\n",
       "      <td>1.05</td>\n",
       "      <td>3.40</td>\n",
       "      <td>1050</td>\n",
       "    </tr>\n",
       "    <tr>\n",
       "      <th>2</th>\n",
       "      <td>1</td>\n",
       "      <td>13.16</td>\n",
       "      <td>2.36</td>\n",
       "      <td>2.67</td>\n",
       "      <td>18.6</td>\n",
       "      <td>101</td>\n",
       "      <td>2.80</td>\n",
       "      <td>3.24</td>\n",
       "      <td>0.30</td>\n",
       "      <td>2.81</td>\n",
       "      <td>5.68</td>\n",
       "      <td>1.03</td>\n",
       "      <td>3.17</td>\n",
       "      <td>1185</td>\n",
       "    </tr>\n",
       "    <tr>\n",
       "      <th>3</th>\n",
       "      <td>1</td>\n",
       "      <td>14.37</td>\n",
       "      <td>1.95</td>\n",
       "      <td>2.50</td>\n",
       "      <td>16.8</td>\n",
       "      <td>113</td>\n",
       "      <td>3.85</td>\n",
       "      <td>3.49</td>\n",
       "      <td>0.24</td>\n",
       "      <td>2.18</td>\n",
       "      <td>7.80</td>\n",
       "      <td>0.86</td>\n",
       "      <td>3.45</td>\n",
       "      <td>1480</td>\n",
       "    </tr>\n",
       "    <tr>\n",
       "      <th>4</th>\n",
       "      <td>1</td>\n",
       "      <td>13.24</td>\n",
       "      <td>2.59</td>\n",
       "      <td>2.87</td>\n",
       "      <td>21.0</td>\n",
       "      <td>118</td>\n",
       "      <td>2.80</td>\n",
       "      <td>2.69</td>\n",
       "      <td>0.39</td>\n",
       "      <td>1.82</td>\n",
       "      <td>4.32</td>\n",
       "      <td>1.04</td>\n",
       "      <td>2.93</td>\n",
       "      <td>735</td>\n",
       "    </tr>\n",
       "  </tbody>\n",
       "</table>\n",
       "</div>"
      ],
      "text/plain": [
       "   0      1     2     3     4    5     6     7     8     9     10    11    12  \\\n",
       "0   1  14.23  1.71  2.43  15.6  127  2.80  3.06  0.28  2.29  5.64  1.04  3.92   \n",
       "1   1  13.20  1.78  2.14  11.2  100  2.65  2.76  0.26  1.28  4.38  1.05  3.40   \n",
       "2   1  13.16  2.36  2.67  18.6  101  2.80  3.24  0.30  2.81  5.68  1.03  3.17   \n",
       "3   1  14.37  1.95  2.50  16.8  113  3.85  3.49  0.24  2.18  7.80  0.86  3.45   \n",
       "4   1  13.24  2.59  2.87  21.0  118  2.80  2.69  0.39  1.82  4.32  1.04  2.93   \n",
       "\n",
       "     13  \n",
       "0  1065  \n",
       "1  1050  \n",
       "2  1185  \n",
       "3  1480  \n",
       "4   735  "
      ]
     },
     "execution_count": 9,
     "metadata": {},
     "output_type": "execute_result"
    }
   ],
   "source": [
    "wine.head()"
   ]
  },
  {
   "cell_type": "code",
   "execution_count": 10,
   "id": "77fd6774-e33a-4666-b83b-e28017331fb3",
   "metadata": {},
   "outputs": [
    {
     "data": {
      "text/html": [
       "<div>\n",
       "<style scoped>\n",
       "    .dataframe tbody tr th:only-of-type {\n",
       "        vertical-align: middle;\n",
       "    }\n",
       "\n",
       "    .dataframe tbody tr th {\n",
       "        vertical-align: top;\n",
       "    }\n",
       "\n",
       "    .dataframe thead th {\n",
       "        text-align: right;\n",
       "    }\n",
       "</style>\n",
       "<table border=\"1\" class=\"dataframe\">\n",
       "  <thead>\n",
       "    <tr style=\"text-align: right;\">\n",
       "      <th></th>\n",
       "      <th>1</th>\n",
       "      <th>2</th>\n",
       "      <th>4</th>\n",
       "      <th>5</th>\n",
       "      <th>7</th>\n",
       "      <th>9</th>\n",
       "      <th>11</th>\n",
       "    </tr>\n",
       "  </thead>\n",
       "  <tbody>\n",
       "    <tr>\n",
       "      <th>0</th>\n",
       "      <td>14.23</td>\n",
       "      <td>1.71</td>\n",
       "      <td>15.6</td>\n",
       "      <td>127</td>\n",
       "      <td>3.06</td>\n",
       "      <td>2.29</td>\n",
       "      <td>1.04</td>\n",
       "    </tr>\n",
       "    <tr>\n",
       "      <th>1</th>\n",
       "      <td>13.20</td>\n",
       "      <td>1.78</td>\n",
       "      <td>11.2</td>\n",
       "      <td>100</td>\n",
       "      <td>2.76</td>\n",
       "      <td>1.28</td>\n",
       "      <td>1.05</td>\n",
       "    </tr>\n",
       "    <tr>\n",
       "      <th>2</th>\n",
       "      <td>13.16</td>\n",
       "      <td>2.36</td>\n",
       "      <td>18.6</td>\n",
       "      <td>101</td>\n",
       "      <td>3.24</td>\n",
       "      <td>2.81</td>\n",
       "      <td>1.03</td>\n",
       "    </tr>\n",
       "    <tr>\n",
       "      <th>3</th>\n",
       "      <td>14.37</td>\n",
       "      <td>1.95</td>\n",
       "      <td>16.8</td>\n",
       "      <td>113</td>\n",
       "      <td>3.49</td>\n",
       "      <td>2.18</td>\n",
       "      <td>0.86</td>\n",
       "    </tr>\n",
       "    <tr>\n",
       "      <th>4</th>\n",
       "      <td>13.24</td>\n",
       "      <td>2.59</td>\n",
       "      <td>21.0</td>\n",
       "      <td>118</td>\n",
       "      <td>2.69</td>\n",
       "      <td>1.82</td>\n",
       "      <td>1.04</td>\n",
       "    </tr>\n",
       "  </tbody>\n",
       "</table>\n",
       "</div>"
      ],
      "text/plain": [
       "      1     2     4    5     7     9     11\n",
       "0  14.23  1.71  15.6  127  3.06  2.29  1.04\n",
       "1  13.20  1.78  11.2  100  2.76  1.28  1.05\n",
       "2  13.16  2.36  18.6  101  3.24  2.81  1.03\n",
       "3  14.37  1.95  16.8  113  3.49  2.18  0.86\n",
       "4  13.24  2.59  21.0  118  2.69  1.82  1.04"
      ]
     },
     "execution_count": 10,
     "metadata": {},
     "output_type": "execute_result"
    }
   ],
   "source": [
    "wine_drop = wine.drop(columns = [0,3,6,8,10,12,13])\n",
    "wine_drop.head()"
   ]
  },
  {
   "cell_type": "markdown",
   "id": "6d797fd1-4e91-473b-88d1-7d0884126cdf",
   "metadata": {},
   "source": [
    "### **Step 5. Assign the columns as below:**"
   ]
  },
  {
   "cell_type": "markdown",
   "id": "dcf4f951-a31e-46fa-806d-18f8092a6908",
   "metadata": {},
   "source": [
    "1) alcohol\n",
    "2) malic_acid\n",
    "3) alcalinity_of_ash\n",
    "4) magnesium\n",
    "5) flavanoids\n",
    "6) proanthocyanins\n",
    "7) hue"
   ]
  },
  {
   "cell_type": "code",
   "execution_count": 11,
   "id": "be926eaa-88b7-46b1-be37-b0db5a70c018",
   "metadata": {},
   "outputs": [],
   "source": [
    "wine_drop.rename(columns = {1:'alcohol', 2:'malic_acid', 4:'alkalinity_of_ash', 5:'magnesium', 7:'flavanoids', 9:'proanthocyanins', 11:'hue'}, inplace = True)"
   ]
  },
  {
   "cell_type": "code",
   "execution_count": 13,
   "id": "6d1cd97d-7532-4c44-aafe-33b2b4bd6b27",
   "metadata": {},
   "outputs": [
    {
     "data": {
      "text/html": [
       "<div>\n",
       "<style scoped>\n",
       "    .dataframe tbody tr th:only-of-type {\n",
       "        vertical-align: middle;\n",
       "    }\n",
       "\n",
       "    .dataframe tbody tr th {\n",
       "        vertical-align: top;\n",
       "    }\n",
       "\n",
       "    .dataframe thead th {\n",
       "        text-align: right;\n",
       "    }\n",
       "</style>\n",
       "<table border=\"1\" class=\"dataframe\">\n",
       "  <thead>\n",
       "    <tr style=\"text-align: right;\">\n",
       "      <th></th>\n",
       "      <th>alcohol</th>\n",
       "      <th>malic_acid</th>\n",
       "      <th>alkalinity_of_ash</th>\n",
       "      <th>magnesium</th>\n",
       "      <th>flavanoids</th>\n",
       "      <th>proanthocyanins</th>\n",
       "      <th>hue</th>\n",
       "    </tr>\n",
       "  </thead>\n",
       "  <tbody>\n",
       "    <tr>\n",
       "      <th>0</th>\n",
       "      <td>14.23</td>\n",
       "      <td>1.71</td>\n",
       "      <td>15.6</td>\n",
       "      <td>127</td>\n",
       "      <td>3.06</td>\n",
       "      <td>2.29</td>\n",
       "      <td>1.04</td>\n",
       "    </tr>\n",
       "    <tr>\n",
       "      <th>1</th>\n",
       "      <td>13.20</td>\n",
       "      <td>1.78</td>\n",
       "      <td>11.2</td>\n",
       "      <td>100</td>\n",
       "      <td>2.76</td>\n",
       "      <td>1.28</td>\n",
       "      <td>1.05</td>\n",
       "    </tr>\n",
       "    <tr>\n",
       "      <th>2</th>\n",
       "      <td>13.16</td>\n",
       "      <td>2.36</td>\n",
       "      <td>18.6</td>\n",
       "      <td>101</td>\n",
       "      <td>3.24</td>\n",
       "      <td>2.81</td>\n",
       "      <td>1.03</td>\n",
       "    </tr>\n",
       "    <tr>\n",
       "      <th>3</th>\n",
       "      <td>14.37</td>\n",
       "      <td>1.95</td>\n",
       "      <td>16.8</td>\n",
       "      <td>113</td>\n",
       "      <td>3.49</td>\n",
       "      <td>2.18</td>\n",
       "      <td>0.86</td>\n",
       "    </tr>\n",
       "    <tr>\n",
       "      <th>4</th>\n",
       "      <td>13.24</td>\n",
       "      <td>2.59</td>\n",
       "      <td>21.0</td>\n",
       "      <td>118</td>\n",
       "      <td>2.69</td>\n",
       "      <td>1.82</td>\n",
       "      <td>1.04</td>\n",
       "    </tr>\n",
       "  </tbody>\n",
       "</table>\n",
       "</div>"
      ],
      "text/plain": [
       "   alcohol  malic_acid  alkalinity_of_ash  magnesium  flavanoids  \\\n",
       "0    14.23        1.71               15.6        127        3.06   \n",
       "1    13.20        1.78               11.2        100        2.76   \n",
       "2    13.16        2.36               18.6        101        3.24   \n",
       "3    14.37        1.95               16.8        113        3.49   \n",
       "4    13.24        2.59               21.0        118        2.69   \n",
       "\n",
       "   proanthocyanins   hue  \n",
       "0             2.29  1.04  \n",
       "1             1.28  1.05  \n",
       "2             2.81  1.03  \n",
       "3             2.18  0.86  \n",
       "4             1.82  1.04  "
      ]
     },
     "execution_count": 13,
     "metadata": {},
     "output_type": "execute_result"
    }
   ],
   "source": [
    "wine_drop.head()"
   ]
  },
  {
   "cell_type": "markdown",
   "id": "b3e8360d-1278-4ce3-ab9a-26a370457232",
   "metadata": {},
   "source": [
    "### **Step 6. Set the values of the first 3 rows from alcohol as NaN**"
   ]
  },
  {
   "cell_type": "code",
   "execution_count": 15,
   "id": "bc2b9642-6ed3-41c7-ad0a-ce5d01877052",
   "metadata": {},
   "outputs": [],
   "source": [
    "wine_drop.loc[0:2, 'alcohol'] = np.nan"
   ]
  },
  {
   "cell_type": "markdown",
   "id": "17b6c90d-dd0f-465a-b8b3-930da51ce014",
   "metadata": {},
   "source": [
    "### **Step 7. Now set the value of the rows 3 and 4 of magnesium as NaN**"
   ]
  },
  {
   "cell_type": "code",
   "execution_count": 19,
   "id": "7b1c75d1-3ddf-4128-8b06-d0b7abb28dfe",
   "metadata": {},
   "outputs": [],
   "source": [
    "wine_drop.loc[2:3, 'magnesium']= np.nan"
   ]
  },
  {
   "cell_type": "code",
   "execution_count": 20,
   "id": "4ca8eaf5-6547-41cf-9a87-2fa52fd5f8d9",
   "metadata": {},
   "outputs": [
    {
     "data": {
      "text/html": [
       "<div>\n",
       "<style scoped>\n",
       "    .dataframe tbody tr th:only-of-type {\n",
       "        vertical-align: middle;\n",
       "    }\n",
       "\n",
       "    .dataframe tbody tr th {\n",
       "        vertical-align: top;\n",
       "    }\n",
       "\n",
       "    .dataframe thead th {\n",
       "        text-align: right;\n",
       "    }\n",
       "</style>\n",
       "<table border=\"1\" class=\"dataframe\">\n",
       "  <thead>\n",
       "    <tr style=\"text-align: right;\">\n",
       "      <th></th>\n",
       "      <th>alcohol</th>\n",
       "      <th>malic_acid</th>\n",
       "      <th>alkalinity_of_ash</th>\n",
       "      <th>magnesium</th>\n",
       "      <th>flavanoids</th>\n",
       "      <th>proanthocyanins</th>\n",
       "      <th>hue</th>\n",
       "    </tr>\n",
       "  </thead>\n",
       "  <tbody>\n",
       "    <tr>\n",
       "      <th>0</th>\n",
       "      <td>NaN</td>\n",
       "      <td>1.71</td>\n",
       "      <td>15.6</td>\n",
       "      <td>127.0</td>\n",
       "      <td>3.06</td>\n",
       "      <td>2.29</td>\n",
       "      <td>1.04</td>\n",
       "    </tr>\n",
       "    <tr>\n",
       "      <th>1</th>\n",
       "      <td>NaN</td>\n",
       "      <td>1.78</td>\n",
       "      <td>11.2</td>\n",
       "      <td>100.0</td>\n",
       "      <td>2.76</td>\n",
       "      <td>1.28</td>\n",
       "      <td>1.05</td>\n",
       "    </tr>\n",
       "    <tr>\n",
       "      <th>2</th>\n",
       "      <td>NaN</td>\n",
       "      <td>2.36</td>\n",
       "      <td>18.6</td>\n",
       "      <td>NaN</td>\n",
       "      <td>3.24</td>\n",
       "      <td>2.81</td>\n",
       "      <td>1.03</td>\n",
       "    </tr>\n",
       "    <tr>\n",
       "      <th>3</th>\n",
       "      <td>14.37</td>\n",
       "      <td>1.95</td>\n",
       "      <td>16.8</td>\n",
       "      <td>NaN</td>\n",
       "      <td>3.49</td>\n",
       "      <td>2.18</td>\n",
       "      <td>0.86</td>\n",
       "    </tr>\n",
       "    <tr>\n",
       "      <th>4</th>\n",
       "      <td>13.24</td>\n",
       "      <td>2.59</td>\n",
       "      <td>21.0</td>\n",
       "      <td>118.0</td>\n",
       "      <td>2.69</td>\n",
       "      <td>1.82</td>\n",
       "      <td>1.04</td>\n",
       "    </tr>\n",
       "    <tr>\n",
       "      <th>...</th>\n",
       "      <td>...</td>\n",
       "      <td>...</td>\n",
       "      <td>...</td>\n",
       "      <td>...</td>\n",
       "      <td>...</td>\n",
       "      <td>...</td>\n",
       "      <td>...</td>\n",
       "    </tr>\n",
       "    <tr>\n",
       "      <th>173</th>\n",
       "      <td>13.71</td>\n",
       "      <td>5.65</td>\n",
       "      <td>20.5</td>\n",
       "      <td>95.0</td>\n",
       "      <td>0.61</td>\n",
       "      <td>1.06</td>\n",
       "      <td>0.64</td>\n",
       "    </tr>\n",
       "    <tr>\n",
       "      <th>174</th>\n",
       "      <td>13.40</td>\n",
       "      <td>3.91</td>\n",
       "      <td>23.0</td>\n",
       "      <td>102.0</td>\n",
       "      <td>0.75</td>\n",
       "      <td>1.41</td>\n",
       "      <td>0.70</td>\n",
       "    </tr>\n",
       "    <tr>\n",
       "      <th>175</th>\n",
       "      <td>13.27</td>\n",
       "      <td>4.28</td>\n",
       "      <td>20.0</td>\n",
       "      <td>120.0</td>\n",
       "      <td>0.69</td>\n",
       "      <td>1.35</td>\n",
       "      <td>0.59</td>\n",
       "    </tr>\n",
       "    <tr>\n",
       "      <th>176</th>\n",
       "      <td>13.17</td>\n",
       "      <td>2.59</td>\n",
       "      <td>20.0</td>\n",
       "      <td>120.0</td>\n",
       "      <td>0.68</td>\n",
       "      <td>1.46</td>\n",
       "      <td>0.60</td>\n",
       "    </tr>\n",
       "    <tr>\n",
       "      <th>177</th>\n",
       "      <td>14.13</td>\n",
       "      <td>4.10</td>\n",
       "      <td>24.5</td>\n",
       "      <td>96.0</td>\n",
       "      <td>0.76</td>\n",
       "      <td>1.35</td>\n",
       "      <td>0.61</td>\n",
       "    </tr>\n",
       "  </tbody>\n",
       "</table>\n",
       "<p>178 rows × 7 columns</p>\n",
       "</div>"
      ],
      "text/plain": [
       "     alcohol  malic_acid  alkalinity_of_ash  magnesium  flavanoids  \\\n",
       "0        NaN        1.71               15.6      127.0        3.06   \n",
       "1        NaN        1.78               11.2      100.0        2.76   \n",
       "2        NaN        2.36               18.6        NaN        3.24   \n",
       "3      14.37        1.95               16.8        NaN        3.49   \n",
       "4      13.24        2.59               21.0      118.0        2.69   \n",
       "..       ...         ...                ...        ...         ...   \n",
       "173    13.71        5.65               20.5       95.0        0.61   \n",
       "174    13.40        3.91               23.0      102.0        0.75   \n",
       "175    13.27        4.28               20.0      120.0        0.69   \n",
       "176    13.17        2.59               20.0      120.0        0.68   \n",
       "177    14.13        4.10               24.5       96.0        0.76   \n",
       "\n",
       "     proanthocyanins   hue  \n",
       "0               2.29  1.04  \n",
       "1               1.28  1.05  \n",
       "2               2.81  1.03  \n",
       "3               2.18  0.86  \n",
       "4               1.82  1.04  \n",
       "..               ...   ...  \n",
       "173             1.06  0.64  \n",
       "174             1.41  0.70  \n",
       "175             1.35  0.59  \n",
       "176             1.46  0.60  \n",
       "177             1.35  0.61  \n",
       "\n",
       "[178 rows x 7 columns]"
      ]
     },
     "execution_count": 20,
     "metadata": {},
     "output_type": "execute_result"
    }
   ],
   "source": [
    "wine_drop"
   ]
  },
  {
   "cell_type": "markdown",
   "id": "e677f9f0-75f3-40c3-931b-50bae59eaf61",
   "metadata": {},
   "source": [
    "### **Step 8. Fill the value of NaN with the number 10 in alcohol and 100 in magnesium**"
   ]
  },
  {
   "cell_type": "code",
   "execution_count": 21,
   "id": "f4444fe6-4dbf-4ddc-9d9e-77eb03dba3b7",
   "metadata": {},
   "outputs": [],
   "source": [
    "wine_drop['alcohol'].fillna(10, inplace = True)\n",
    "wine_drop['magnesium'].fillna(100, inplace = True)"
   ]
  },
  {
   "cell_type": "markdown",
   "id": "4867c6fd-8c99-49e9-a51f-b1cbe1bdc3f4",
   "metadata": {},
   "source": [
    "### **Step 9. Count the number of missing values**"
   ]
  },
  {
   "cell_type": "code",
   "execution_count": 23,
   "id": "5652b06f-cbe2-4955-b582-42e54d83c4a2",
   "metadata": {},
   "outputs": [
    {
     "data": {
      "text/plain": [
       "0"
      ]
     },
     "execution_count": 23,
     "metadata": {},
     "output_type": "execute_result"
    }
   ],
   "source": [
    "wine_drop.isna().sum().sum()"
   ]
  },
  {
   "cell_type": "markdown",
   "id": "9a8675ea-10e3-4d83-8318-2f12d8b2dae3",
   "metadata": {},
   "source": [
    "### **Step 10. Create an array of 10 random numbers up until 10**"
   ]
  },
  {
   "cell_type": "code",
   "execution_count": 26,
   "id": "7f5f951a-d76d-4d4d-bf21-7963e6a8ccd6",
   "metadata": {},
   "outputs": [],
   "source": [
    "rand_array = np.random.randint(0,10, size = 10)"
   ]
  },
  {
   "cell_type": "markdown",
   "id": "02695e29-4d15-4f1d-8410-cd7ed4fd17d7",
   "metadata": {},
   "source": [
    "### **Step 11. Use random numbers you generated as an index and assign NaN value to each of cell.**"
   ]
  },
  {
   "cell_type": "code",
   "execution_count": 27,
   "id": "a4522cac-d477-49d7-be3c-56cd91697cb9",
   "metadata": {},
   "outputs": [],
   "source": [
    "wine_drop.loc[rand_array] = np.nan"
   ]
  },
  {
   "cell_type": "markdown",
   "id": "3622f3d1-d6d9-4fec-95bb-b37d5e399682",
   "metadata": {},
   "source": [
    "### **Step 12. How many missing values do we have?**"
   ]
  },
  {
   "cell_type": "code",
   "execution_count": 31,
   "id": "b535fc6f-0dc8-4de0-9da6-2fd89426a038",
   "metadata": {},
   "outputs": [
    {
     "data": {
      "text/plain": [
       "alcohol              6\n",
       "malic_acid           6\n",
       "alkalinity_of_ash    6\n",
       "magnesium            6\n",
       "flavanoids           6\n",
       "proanthocyanins      6\n",
       "hue                  6\n",
       "dtype: int64"
      ]
     },
     "execution_count": 31,
     "metadata": {},
     "output_type": "execute_result"
    }
   ],
   "source": [
    "wine_drop.isna().sum()"
   ]
  },
  {
   "cell_type": "code",
   "execution_count": 32,
   "id": "aee585f8-db04-4955-b0c6-f3616fd0defe",
   "metadata": {},
   "outputs": [
    {
     "data": {
      "text/plain": [
       "42"
      ]
     },
     "execution_count": 32,
     "metadata": {},
     "output_type": "execute_result"
    }
   ],
   "source": [
    "wine_drop.isna().sum().sum()"
   ]
  },
  {
   "cell_type": "markdown",
   "id": "6cc53cda-0065-4517-93e7-a443fa95c162",
   "metadata": {},
   "source": [
    "### **Step 13. Delete the rows that contain missing values**"
   ]
  },
  {
   "cell_type": "code",
   "execution_count": 33,
   "id": "b3eca24c-9a21-42e1-a05a-50080f2d2364",
   "metadata": {},
   "outputs": [],
   "source": [
    "wine_drop.dropna(inplace = True)"
   ]
  },
  {
   "cell_type": "markdown",
   "id": "532f4971-a94d-4af8-bc1e-5f75a60ada58",
   "metadata": {},
   "source": [
    "### Step 14. Print only the non-null values in alcohol**"
   ]
  },
  {
   "cell_type": "code",
   "execution_count": 37,
   "id": "f8766619-4115-429d-9a05-262d75f743e5",
   "metadata": {},
   "outputs": [
    {
     "data": {
      "text/plain": [
       "2      10.00\n",
       "3      14.37\n",
       "5      14.20\n",
       "9      13.86\n",
       "10     14.10\n",
       "       ...  \n",
       "173    13.71\n",
       "174    13.40\n",
       "175    13.27\n",
       "176    13.17\n",
       "177    14.13\n",
       "Name: alcohol, Length: 172, dtype: float64"
      ]
     },
     "execution_count": 37,
     "metadata": {},
     "output_type": "execute_result"
    }
   ],
   "source": [
    "wine_drop[wine_drop['alcohol'].notna()]['alcohol']"
   ]
  },
  {
   "cell_type": "code",
   "execution_count": 38,
   "id": "ee3ec29d-3065-4c80-a2c0-51d51bc4e51c",
   "metadata": {},
   "outputs": [
    {
     "data": {
      "text/plain": [
       "alcohol              0\n",
       "malic_acid           0\n",
       "alkalinity_of_ash    0\n",
       "magnesium            0\n",
       "flavanoids           0\n",
       "proanthocyanins      0\n",
       "hue                  0\n",
       "dtype: int64"
      ]
     },
     "execution_count": 38,
     "metadata": {},
     "output_type": "execute_result"
    }
   ],
   "source": [
    "wine_drop.isna().sum()"
   ]
  },
  {
   "cell_type": "code",
   "execution_count": 40,
   "id": "1c6e8b62-c01f-4bb0-8563-9bed7f0f6951",
   "metadata": {},
   "outputs": [],
   "source": [
    "wine_drop.reset_index(inplace = True)\n",
    "rand_array = np.random.randint(0,150,size = 50)\n",
    "wine_drop.loc[rand_array] = np.nan"
   ]
  },
  {
   "cell_type": "code",
   "execution_count": 53,
   "id": "77b91038-fd8c-41d5-a6df-42b83aa34b19",
   "metadata": {},
   "outputs": [
    {
     "data": {
      "text/plain": [
       "133"
      ]
     },
     "execution_count": 53,
     "metadata": {},
     "output_type": "execute_result"
    }
   ],
   "source": [
    "len(wine_drop['alcohol']) - wine_drop['alcohol'].isna().sum()"
   ]
  },
  {
   "cell_type": "code",
   "execution_count": 55,
   "id": "a4fdd7d5-773a-4c56-b446-83091042628c",
   "metadata": {},
   "outputs": [
    {
     "data": {
      "text/plain": [
       "0      10.00\n",
       "1      14.37\n",
       "2      14.20\n",
       "3      13.86\n",
       "4      14.10\n",
       "       ...  \n",
       "167    13.71\n",
       "168    13.40\n",
       "169    13.27\n",
       "170    13.17\n",
       "171    14.13\n",
       "Name: alcohol, Length: 133, dtype: float64"
      ]
     },
     "execution_count": 55,
     "metadata": {},
     "output_type": "execute_result"
    }
   ],
   "source": [
    "wine_drop[wine_drop['alcohol'].notna()]['alcohol'] #okay so length of this, 133, is the same as the the other confirmed length of 133. so this does indeed work as expected"
   ]
  },
  {
   "cell_type": "code",
   "execution_count": null,
   "id": "fa701346-e697-4b29-9e7f-4a0ac7d928fe",
   "metadata": {},
   "outputs": [],
   "source": []
  }
 ],
 "metadata": {
  "kernelspec": {
   "display_name": "Python 3 (ipykernel)",
   "language": "python",
   "name": "python3"
  },
  "language_info": {
   "codemirror_mode": {
    "name": "ipython",
    "version": 3
   },
   "file_extension": ".py",
   "mimetype": "text/x-python",
   "name": "python",
   "nbconvert_exporter": "python",
   "pygments_lexer": "ipython3",
   "version": "3.8.12"
  }
 },
 "nbformat": 4,
 "nbformat_minor": 5
}
