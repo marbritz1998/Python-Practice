{
 "cells": [
  {
   "cell_type": "markdown",
   "id": "d13357ca-7b18-45f8-8822-cdcbea90a90d",
   "metadata": {},
   "source": [
    "# **Iris**"
   ]
  },
  {
   "cell_type": "markdown",
   "id": "efb9bf9f-a292-4532-ad75-006c5e389ee2",
   "metadata": {},
   "source": [
    "### **Step 1. Import the necessary libraries**"
   ]
  },
  {
   "cell_type": "code",
   "execution_count": 1,
   "id": "c6e1b53d-b323-4436-ae6a-d3b966fb809a",
   "metadata": {},
   "outputs": [],
   "source": [
    "import pandas as pd\n",
    "import numpy as np"
   ]
  },
  {
   "cell_type": "markdown",
   "id": "07f69c02-a99f-4cc8-90df-56cfd46b714f",
   "metadata": {},
   "source": [
    "### **Step 2. Import the dataset. Step 3. Assign it to a variable called iris**"
   ]
  },
  {
   "cell_type": "code",
   "execution_count": 6,
   "id": "c1a9db10-cbfc-4e16-85c8-d65b2fb2bb2b",
   "metadata": {},
   "outputs": [
    {
     "data": {
      "text/html": [
       "<div>\n",
       "<style scoped>\n",
       "    .dataframe tbody tr th:only-of-type {\n",
       "        vertical-align: middle;\n",
       "    }\n",
       "\n",
       "    .dataframe tbody tr th {\n",
       "        vertical-align: top;\n",
       "    }\n",
       "\n",
       "    .dataframe thead th {\n",
       "        text-align: right;\n",
       "    }\n",
       "</style>\n",
       "<table border=\"1\" class=\"dataframe\">\n",
       "  <thead>\n",
       "    <tr style=\"text-align: right;\">\n",
       "      <th></th>\n",
       "      <th>0</th>\n",
       "      <th>1</th>\n",
       "      <th>2</th>\n",
       "      <th>3</th>\n",
       "      <th>4</th>\n",
       "    </tr>\n",
       "  </thead>\n",
       "  <tbody>\n",
       "    <tr>\n",
       "      <th>0</th>\n",
       "      <td>5.1</td>\n",
       "      <td>3.5</td>\n",
       "      <td>1.4</td>\n",
       "      <td>0.2</td>\n",
       "      <td>Iris-setosa</td>\n",
       "    </tr>\n",
       "    <tr>\n",
       "      <th>1</th>\n",
       "      <td>4.9</td>\n",
       "      <td>3.0</td>\n",
       "      <td>1.4</td>\n",
       "      <td>0.2</td>\n",
       "      <td>Iris-setosa</td>\n",
       "    </tr>\n",
       "    <tr>\n",
       "      <th>2</th>\n",
       "      <td>4.7</td>\n",
       "      <td>3.2</td>\n",
       "      <td>1.3</td>\n",
       "      <td>0.2</td>\n",
       "      <td>Iris-setosa</td>\n",
       "    </tr>\n",
       "    <tr>\n",
       "      <th>3</th>\n",
       "      <td>4.6</td>\n",
       "      <td>3.1</td>\n",
       "      <td>1.5</td>\n",
       "      <td>0.2</td>\n",
       "      <td>Iris-setosa</td>\n",
       "    </tr>\n",
       "    <tr>\n",
       "      <th>4</th>\n",
       "      <td>5.0</td>\n",
       "      <td>3.6</td>\n",
       "      <td>1.4</td>\n",
       "      <td>0.2</td>\n",
       "      <td>Iris-setosa</td>\n",
       "    </tr>\n",
       "  </tbody>\n",
       "</table>\n",
       "</div>"
      ],
      "text/plain": [
       "     0    1    2    3            4\n",
       "0  5.1  3.5  1.4  0.2  Iris-setosa\n",
       "1  4.9  3.0  1.4  0.2  Iris-setosa\n",
       "2  4.7  3.2  1.3  0.2  Iris-setosa\n",
       "3  4.6  3.1  1.5  0.2  Iris-setosa\n",
       "4  5.0  3.6  1.4  0.2  Iris-setosa"
      ]
     },
     "execution_count": 6,
     "metadata": {},
     "output_type": "execute_result"
    }
   ],
   "source": [
    "iris = pd.read_csv('iris.data', header = None)\n",
    "iris.head()"
   ]
  },
  {
   "cell_type": "markdown",
   "id": "b3f23e64-0fc7-4530-9f0d-35ead599d9aa",
   "metadata": {},
   "source": [
    "### **Step 4. Create columns for the dataset**"
   ]
  },
  {
   "cell_type": "code",
   "execution_count": 7,
   "id": "60a33181-b7ea-4222-8366-4a74537a798c",
   "metadata": {},
   "outputs": [],
   "source": [
    "# 1. sepal_length (in cm)\n",
    "# 2. sepal_width (in cm)\n",
    "# 3. petal_length (in cm)\n",
    "# 4. petal_width (in cm)\n",
    "# 5. class\n",
    "\n",
    "iris.rename(columns={0:'sepal_length cm',1:'sepal_width cm',2:'petal_length cm',3:'petal_width cm',4:'class'}, inplace = True)"
   ]
  },
  {
   "cell_type": "markdown",
   "id": "bd5624fa-528a-45c3-b0aa-56f25c1242c6",
   "metadata": {},
   "source": [
    "### **Step 5. Is there any missing value in the dataframe?**"
   ]
  },
  {
   "cell_type": "code",
   "execution_count": 8,
   "id": "9a863bd4-a40b-4e38-a2fd-2cb455197999",
   "metadata": {},
   "outputs": [
    {
     "data": {
      "text/plain": [
       "sepal_length cm    0\n",
       "sepal_width cm     0\n",
       "petal_length cm    0\n",
       "petal_width cm     0\n",
       "class              0\n",
       "dtype: int64"
      ]
     },
     "execution_count": 8,
     "metadata": {},
     "output_type": "execute_result"
    }
   ],
   "source": [
    "iris.isna().sum()"
   ]
  },
  {
   "cell_type": "code",
   "execution_count": 9,
   "id": "5e3d1d97-0523-4094-b9ab-d9f360815a1c",
   "metadata": {},
   "outputs": [],
   "source": [
    "#no missing values"
   ]
  },
  {
   "cell_type": "markdown",
   "id": "bf7af8c8-f585-4d05-a7b7-4af7b25cee61",
   "metadata": {},
   "source": [
    "### **Step 6. Lets set the values of the rows 10 to 29 of the column 'petal_length' to NaN**"
   ]
  },
  {
   "cell_type": "code",
   "execution_count": 10,
   "id": "f9d25a9c-03a6-446d-9556-a19c1ed1b510",
   "metadata": {},
   "outputs": [],
   "source": [
    "iris.loc[10:29, 'petal_length cm'] = np.nan"
   ]
  },
  {
   "cell_type": "markdown",
   "id": "3b0f273a-9fde-4bb6-ba57-97b1e21e78c1",
   "metadata": {},
   "source": [
    "### **Step 7. Good, now lets substitute the NaN values to 1.0**"
   ]
  },
  {
   "cell_type": "code",
   "execution_count": 11,
   "id": "b6aeb261-a62a-4565-89f9-0e185102501b",
   "metadata": {},
   "outputs": [
    {
     "data": {
      "text/html": [
       "<div>\n",
       "<style scoped>\n",
       "    .dataframe tbody tr th:only-of-type {\n",
       "        vertical-align: middle;\n",
       "    }\n",
       "\n",
       "    .dataframe tbody tr th {\n",
       "        vertical-align: top;\n",
       "    }\n",
       "\n",
       "    .dataframe thead th {\n",
       "        text-align: right;\n",
       "    }\n",
       "</style>\n",
       "<table border=\"1\" class=\"dataframe\">\n",
       "  <thead>\n",
       "    <tr style=\"text-align: right;\">\n",
       "      <th></th>\n",
       "      <th>sepal_length cm</th>\n",
       "      <th>sepal_width cm</th>\n",
       "      <th>petal_length cm</th>\n",
       "      <th>petal_width cm</th>\n",
       "      <th>class</th>\n",
       "    </tr>\n",
       "  </thead>\n",
       "  <tbody>\n",
       "    <tr>\n",
       "      <th>8</th>\n",
       "      <td>4.4</td>\n",
       "      <td>2.9</td>\n",
       "      <td>1.4</td>\n",
       "      <td>0.2</td>\n",
       "      <td>Iris-setosa</td>\n",
       "    </tr>\n",
       "    <tr>\n",
       "      <th>9</th>\n",
       "      <td>4.9</td>\n",
       "      <td>3.1</td>\n",
       "      <td>1.5</td>\n",
       "      <td>0.1</td>\n",
       "      <td>Iris-setosa</td>\n",
       "    </tr>\n",
       "    <tr>\n",
       "      <th>10</th>\n",
       "      <td>5.4</td>\n",
       "      <td>3.7</td>\n",
       "      <td>NaN</td>\n",
       "      <td>0.2</td>\n",
       "      <td>Iris-setosa</td>\n",
       "    </tr>\n",
       "    <tr>\n",
       "      <th>11</th>\n",
       "      <td>4.8</td>\n",
       "      <td>3.4</td>\n",
       "      <td>NaN</td>\n",
       "      <td>0.2</td>\n",
       "      <td>Iris-setosa</td>\n",
       "    </tr>\n",
       "    <tr>\n",
       "      <th>12</th>\n",
       "      <td>4.8</td>\n",
       "      <td>3.0</td>\n",
       "      <td>NaN</td>\n",
       "      <td>0.1</td>\n",
       "      <td>Iris-setosa</td>\n",
       "    </tr>\n",
       "    <tr>\n",
       "      <th>13</th>\n",
       "      <td>4.3</td>\n",
       "      <td>3.0</td>\n",
       "      <td>NaN</td>\n",
       "      <td>0.1</td>\n",
       "      <td>Iris-setosa</td>\n",
       "    </tr>\n",
       "    <tr>\n",
       "      <th>14</th>\n",
       "      <td>5.8</td>\n",
       "      <td>4.0</td>\n",
       "      <td>NaN</td>\n",
       "      <td>0.2</td>\n",
       "      <td>Iris-setosa</td>\n",
       "    </tr>\n",
       "    <tr>\n",
       "      <th>15</th>\n",
       "      <td>5.7</td>\n",
       "      <td>4.4</td>\n",
       "      <td>NaN</td>\n",
       "      <td>0.4</td>\n",
       "      <td>Iris-setosa</td>\n",
       "    </tr>\n",
       "  </tbody>\n",
       "</table>\n",
       "</div>"
      ],
      "text/plain": [
       "    sepal_length cm  sepal_width cm  petal_length cm  petal_width cm  \\\n",
       "8               4.4             2.9              1.4             0.2   \n",
       "9               4.9             3.1              1.5             0.1   \n",
       "10              5.4             3.7              NaN             0.2   \n",
       "11              4.8             3.4              NaN             0.2   \n",
       "12              4.8             3.0              NaN             0.1   \n",
       "13              4.3             3.0              NaN             0.1   \n",
       "14              5.8             4.0              NaN             0.2   \n",
       "15              5.7             4.4              NaN             0.4   \n",
       "\n",
       "          class  \n",
       "8   Iris-setosa  \n",
       "9   Iris-setosa  \n",
       "10  Iris-setosa  \n",
       "11  Iris-setosa  \n",
       "12  Iris-setosa  \n",
       "13  Iris-setosa  \n",
       "14  Iris-setosa  \n",
       "15  Iris-setosa  "
      ]
     },
     "execution_count": 11,
     "metadata": {},
     "output_type": "execute_result"
    }
   ],
   "source": [
    "iris.loc[8:15]"
   ]
  },
  {
   "cell_type": "code",
   "execution_count": 12,
   "id": "61a0ba30-54d1-4ec1-8674-9dc002efa3f5",
   "metadata": {},
   "outputs": [],
   "source": [
    "iris.fillna(1.0, inplace = True)"
   ]
  },
  {
   "cell_type": "markdown",
   "id": "5486eb86-104f-425a-86d6-4c052cacf01f",
   "metadata": {},
   "source": [
    "### **Step 8. Now let's delete the column class**"
   ]
  },
  {
   "cell_type": "code",
   "execution_count": 13,
   "id": "e8d9ecdc-48dd-4e0e-b1a5-899229698ba7",
   "metadata": {},
   "outputs": [],
   "source": [
    "del iris['class']"
   ]
  },
  {
   "cell_type": "markdown",
   "id": "494b75c0-120c-49a5-8d48-e9f6f0af06bb",
   "metadata": {},
   "source": [
    "### **Step 9. Set the first 3 rows as NaN**"
   ]
  },
  {
   "cell_type": "code",
   "execution_count": 15,
   "id": "cf588363-3070-4352-ab5a-3ef832281e2b",
   "metadata": {},
   "outputs": [],
   "source": [
    "iris.loc[0:2]= np.nan"
   ]
  },
  {
   "cell_type": "markdown",
   "id": "19a71a0a-71ab-4294-ba02-d41f65bac4ce",
   "metadata": {},
   "source": [
    "### **Step 10. Delete the rows that have NaN**"
   ]
  },
  {
   "cell_type": "code",
   "execution_count": 18,
   "id": "98bca315-63cd-49f8-85ed-6afd904cf97a",
   "metadata": {},
   "outputs": [],
   "source": [
    "iris.dropna(inplace = True)"
   ]
  },
  {
   "cell_type": "markdown",
   "id": "5e92441d-a9c7-4c3b-9331-25c4d78f70ec",
   "metadata": {},
   "source": [
    "### **Step 11. Reset the index so it begins with 0 again**"
   ]
  },
  {
   "cell_type": "code",
   "execution_count": 19,
   "id": "ad91a174-7e6b-4fc2-8455-078caafbd842",
   "metadata": {},
   "outputs": [
    {
     "data": {
      "text/html": [
       "<div>\n",
       "<style scoped>\n",
       "    .dataframe tbody tr th:only-of-type {\n",
       "        vertical-align: middle;\n",
       "    }\n",
       "\n",
       "    .dataframe tbody tr th {\n",
       "        vertical-align: top;\n",
       "    }\n",
       "\n",
       "    .dataframe thead th {\n",
       "        text-align: right;\n",
       "    }\n",
       "</style>\n",
       "<table border=\"1\" class=\"dataframe\">\n",
       "  <thead>\n",
       "    <tr style=\"text-align: right;\">\n",
       "      <th></th>\n",
       "      <th>sepal_length cm</th>\n",
       "      <th>sepal_width cm</th>\n",
       "      <th>petal_length cm</th>\n",
       "      <th>petal_width cm</th>\n",
       "    </tr>\n",
       "  </thead>\n",
       "  <tbody>\n",
       "    <tr>\n",
       "      <th>3</th>\n",
       "      <td>4.6</td>\n",
       "      <td>3.1</td>\n",
       "      <td>1.5</td>\n",
       "      <td>0.2</td>\n",
       "    </tr>\n",
       "    <tr>\n",
       "      <th>4</th>\n",
       "      <td>5.0</td>\n",
       "      <td>3.6</td>\n",
       "      <td>1.4</td>\n",
       "      <td>0.2</td>\n",
       "    </tr>\n",
       "    <tr>\n",
       "      <th>5</th>\n",
       "      <td>5.4</td>\n",
       "      <td>3.9</td>\n",
       "      <td>1.7</td>\n",
       "      <td>0.4</td>\n",
       "    </tr>\n",
       "    <tr>\n",
       "      <th>6</th>\n",
       "      <td>4.6</td>\n",
       "      <td>3.4</td>\n",
       "      <td>1.4</td>\n",
       "      <td>0.3</td>\n",
       "    </tr>\n",
       "    <tr>\n",
       "      <th>7</th>\n",
       "      <td>5.0</td>\n",
       "      <td>3.4</td>\n",
       "      <td>1.5</td>\n",
       "      <td>0.2</td>\n",
       "    </tr>\n",
       "    <tr>\n",
       "      <th>...</th>\n",
       "      <td>...</td>\n",
       "      <td>...</td>\n",
       "      <td>...</td>\n",
       "      <td>...</td>\n",
       "    </tr>\n",
       "    <tr>\n",
       "      <th>145</th>\n",
       "      <td>6.7</td>\n",
       "      <td>3.0</td>\n",
       "      <td>5.2</td>\n",
       "      <td>2.3</td>\n",
       "    </tr>\n",
       "    <tr>\n",
       "      <th>146</th>\n",
       "      <td>6.3</td>\n",
       "      <td>2.5</td>\n",
       "      <td>5.0</td>\n",
       "      <td>1.9</td>\n",
       "    </tr>\n",
       "    <tr>\n",
       "      <th>147</th>\n",
       "      <td>6.5</td>\n",
       "      <td>3.0</td>\n",
       "      <td>5.2</td>\n",
       "      <td>2.0</td>\n",
       "    </tr>\n",
       "    <tr>\n",
       "      <th>148</th>\n",
       "      <td>6.2</td>\n",
       "      <td>3.4</td>\n",
       "      <td>5.4</td>\n",
       "      <td>2.3</td>\n",
       "    </tr>\n",
       "    <tr>\n",
       "      <th>149</th>\n",
       "      <td>5.9</td>\n",
       "      <td>3.0</td>\n",
       "      <td>5.1</td>\n",
       "      <td>1.8</td>\n",
       "    </tr>\n",
       "  </tbody>\n",
       "</table>\n",
       "<p>147 rows × 4 columns</p>\n",
       "</div>"
      ],
      "text/plain": [
       "     sepal_length cm  sepal_width cm  petal_length cm  petal_width cm\n",
       "3                4.6             3.1              1.5             0.2\n",
       "4                5.0             3.6              1.4             0.2\n",
       "5                5.4             3.9              1.7             0.4\n",
       "6                4.6             3.4              1.4             0.3\n",
       "7                5.0             3.4              1.5             0.2\n",
       "..               ...             ...              ...             ...\n",
       "145              6.7             3.0              5.2             2.3\n",
       "146              6.3             2.5              5.0             1.9\n",
       "147              6.5             3.0              5.2             2.0\n",
       "148              6.2             3.4              5.4             2.3\n",
       "149              5.9             3.0              5.1             1.8\n",
       "\n",
       "[147 rows x 4 columns]"
      ]
     },
     "execution_count": 19,
     "metadata": {},
     "output_type": "execute_result"
    }
   ],
   "source": [
    "iris"
   ]
  },
  {
   "cell_type": "code",
   "execution_count": 20,
   "id": "dc1277bd-0ed3-4ab5-91d9-5f76cb1938aa",
   "metadata": {},
   "outputs": [],
   "source": [
    "iris.reset_index(inplace = True)"
   ]
  },
  {
   "cell_type": "code",
   "execution_count": 21,
   "id": "cb82bcce-a5ea-42a5-b7d8-84542a7fb200",
   "metadata": {},
   "outputs": [
    {
     "data": {
      "text/html": [
       "<div>\n",
       "<style scoped>\n",
       "    .dataframe tbody tr th:only-of-type {\n",
       "        vertical-align: middle;\n",
       "    }\n",
       "\n",
       "    .dataframe tbody tr th {\n",
       "        vertical-align: top;\n",
       "    }\n",
       "\n",
       "    .dataframe thead th {\n",
       "        text-align: right;\n",
       "    }\n",
       "</style>\n",
       "<table border=\"1\" class=\"dataframe\">\n",
       "  <thead>\n",
       "    <tr style=\"text-align: right;\">\n",
       "      <th></th>\n",
       "      <th>index</th>\n",
       "      <th>sepal_length cm</th>\n",
       "      <th>sepal_width cm</th>\n",
       "      <th>petal_length cm</th>\n",
       "      <th>petal_width cm</th>\n",
       "    </tr>\n",
       "  </thead>\n",
       "  <tbody>\n",
       "    <tr>\n",
       "      <th>0</th>\n",
       "      <td>3</td>\n",
       "      <td>4.6</td>\n",
       "      <td>3.1</td>\n",
       "      <td>1.5</td>\n",
       "      <td>0.2</td>\n",
       "    </tr>\n",
       "    <tr>\n",
       "      <th>1</th>\n",
       "      <td>4</td>\n",
       "      <td>5.0</td>\n",
       "      <td>3.6</td>\n",
       "      <td>1.4</td>\n",
       "      <td>0.2</td>\n",
       "    </tr>\n",
       "    <tr>\n",
       "      <th>2</th>\n",
       "      <td>5</td>\n",
       "      <td>5.4</td>\n",
       "      <td>3.9</td>\n",
       "      <td>1.7</td>\n",
       "      <td>0.4</td>\n",
       "    </tr>\n",
       "    <tr>\n",
       "      <th>3</th>\n",
       "      <td>6</td>\n",
       "      <td>4.6</td>\n",
       "      <td>3.4</td>\n",
       "      <td>1.4</td>\n",
       "      <td>0.3</td>\n",
       "    </tr>\n",
       "    <tr>\n",
       "      <th>4</th>\n",
       "      <td>7</td>\n",
       "      <td>5.0</td>\n",
       "      <td>3.4</td>\n",
       "      <td>1.5</td>\n",
       "      <td>0.2</td>\n",
       "    </tr>\n",
       "    <tr>\n",
       "      <th>...</th>\n",
       "      <td>...</td>\n",
       "      <td>...</td>\n",
       "      <td>...</td>\n",
       "      <td>...</td>\n",
       "      <td>...</td>\n",
       "    </tr>\n",
       "    <tr>\n",
       "      <th>142</th>\n",
       "      <td>145</td>\n",
       "      <td>6.7</td>\n",
       "      <td>3.0</td>\n",
       "      <td>5.2</td>\n",
       "      <td>2.3</td>\n",
       "    </tr>\n",
       "    <tr>\n",
       "      <th>143</th>\n",
       "      <td>146</td>\n",
       "      <td>6.3</td>\n",
       "      <td>2.5</td>\n",
       "      <td>5.0</td>\n",
       "      <td>1.9</td>\n",
       "    </tr>\n",
       "    <tr>\n",
       "      <th>144</th>\n",
       "      <td>147</td>\n",
       "      <td>6.5</td>\n",
       "      <td>3.0</td>\n",
       "      <td>5.2</td>\n",
       "      <td>2.0</td>\n",
       "    </tr>\n",
       "    <tr>\n",
       "      <th>145</th>\n",
       "      <td>148</td>\n",
       "      <td>6.2</td>\n",
       "      <td>3.4</td>\n",
       "      <td>5.4</td>\n",
       "      <td>2.3</td>\n",
       "    </tr>\n",
       "    <tr>\n",
       "      <th>146</th>\n",
       "      <td>149</td>\n",
       "      <td>5.9</td>\n",
       "      <td>3.0</td>\n",
       "      <td>5.1</td>\n",
       "      <td>1.8</td>\n",
       "    </tr>\n",
       "  </tbody>\n",
       "</table>\n",
       "<p>147 rows × 5 columns</p>\n",
       "</div>"
      ],
      "text/plain": [
       "     index  sepal_length cm  sepal_width cm  petal_length cm  petal_width cm\n",
       "0        3              4.6             3.1              1.5             0.2\n",
       "1        4              5.0             3.6              1.4             0.2\n",
       "2        5              5.4             3.9              1.7             0.4\n",
       "3        6              4.6             3.4              1.4             0.3\n",
       "4        7              5.0             3.4              1.5             0.2\n",
       "..     ...              ...             ...              ...             ...\n",
       "142    145              6.7             3.0              5.2             2.3\n",
       "143    146              6.3             2.5              5.0             1.9\n",
       "144    147              6.5             3.0              5.2             2.0\n",
       "145    148              6.2             3.4              5.4             2.3\n",
       "146    149              5.9             3.0              5.1             1.8\n",
       "\n",
       "[147 rows x 5 columns]"
      ]
     },
     "execution_count": 21,
     "metadata": {},
     "output_type": "execute_result"
    }
   ],
   "source": [
    "iris"
   ]
  },
  {
   "cell_type": "code",
   "execution_count": null,
   "id": "8763abbe-66f2-49ab-932a-97246add5869",
   "metadata": {},
   "outputs": [],
   "source": []
  }
 ],
 "metadata": {
  "kernelspec": {
   "display_name": "Python 3 (ipykernel)",
   "language": "python",
   "name": "python3"
  },
  "language_info": {
   "codemirror_mode": {
    "name": "ipython",
    "version": 3
   },
   "file_extension": ".py",
   "mimetype": "text/x-python",
   "name": "python",
   "nbconvert_exporter": "python",
   "pygments_lexer": "ipython3",
   "version": "3.8.12"
  }
 },
 "nbformat": 4,
 "nbformat_minor": 5
}
