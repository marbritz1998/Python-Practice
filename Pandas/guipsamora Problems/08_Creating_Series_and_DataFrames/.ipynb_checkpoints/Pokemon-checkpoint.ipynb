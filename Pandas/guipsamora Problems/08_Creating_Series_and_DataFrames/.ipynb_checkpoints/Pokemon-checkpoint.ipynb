{
 "cells": [
  {
   "cell_type": "markdown",
   "id": "ee4c10cd-d818-4037-a04b-740d1a36181b",
   "metadata": {},
   "source": [
    "# **Pokemon**"
   ]
  },
  {
   "cell_type": "markdown",
   "id": "24438caf-572c-46c6-be88-a9a6dcd34a0a",
   "metadata": {},
   "source": [
    "### **Step 1. Import the necessary libraries**"
   ]
  },
  {
   "cell_type": "code",
   "execution_count": 1,
   "id": "f5b81f88-c922-453a-aec3-85e66c6f2d3c",
   "metadata": {},
   "outputs": [],
   "source": [
    "import pandas as pd\n",
    "import numpy as np"
   ]
  },
  {
   "cell_type": "markdown",
   "id": "26fad49f-dd3f-4e6a-921c-8fcf0a8eb6fe",
   "metadata": {},
   "source": [
    "### **Step 2. Create a data dictionary that looks like the DataFrame below. Step 3. Assign it to a variable called pokemon**"
   ]
  },
  {
   "cell_type": "code",
   "execution_count": 6,
   "id": "690b1d86-6ff1-45e4-beb2-b675ff7f8b8b",
   "metadata": {},
   "outputs": [
    {
     "data": {
      "text/html": [
       "<div>\n",
       "<style scoped>\n",
       "    .dataframe tbody tr th:only-of-type {\n",
       "        vertical-align: middle;\n",
       "    }\n",
       "\n",
       "    .dataframe tbody tr th {\n",
       "        vertical-align: top;\n",
       "    }\n",
       "\n",
       "    .dataframe thead th {\n",
       "        text-align: right;\n",
       "    }\n",
       "</style>\n",
       "<table border=\"1\" class=\"dataframe\">\n",
       "  <thead>\n",
       "    <tr style=\"text-align: right;\">\n",
       "      <th></th>\n",
       "      <th>evolution</th>\n",
       "      <th>hp</th>\n",
       "      <th>name</th>\n",
       "      <th>pokedex</th>\n",
       "      <th>type</th>\n",
       "    </tr>\n",
       "  </thead>\n",
       "  <tbody>\n",
       "    <tr>\n",
       "      <th>0</th>\n",
       "      <td>Ivysaur</td>\n",
       "      <td>45</td>\n",
       "      <td>Bulbasaur</td>\n",
       "      <td>yes</td>\n",
       "      <td>grass</td>\n",
       "    </tr>\n",
       "    <tr>\n",
       "      <th>1</th>\n",
       "      <td>Charmeleon</td>\n",
       "      <td>39</td>\n",
       "      <td>Charmander</td>\n",
       "      <td>no</td>\n",
       "      <td>fire</td>\n",
       "    </tr>\n",
       "    <tr>\n",
       "      <th>2</th>\n",
       "      <td>Wartortle</td>\n",
       "      <td>44</td>\n",
       "      <td>Squirtle</td>\n",
       "      <td>yes</td>\n",
       "      <td>water</td>\n",
       "    </tr>\n",
       "    <tr>\n",
       "      <th>3</th>\n",
       "      <td>Metapod</td>\n",
       "      <td>45</td>\n",
       "      <td>Caterpie</td>\n",
       "      <td>no</td>\n",
       "      <td>bug</td>\n",
       "    </tr>\n",
       "  </tbody>\n",
       "</table>\n",
       "</div>"
      ],
      "text/plain": [
       "    evolution  hp        name pokedex   type\n",
       "0     Ivysaur  45   Bulbasaur     yes  grass\n",
       "1  Charmeleon  39  Charmander      no   fire\n",
       "2   Wartortle  44    Squirtle     yes  water\n",
       "3     Metapod  45    Caterpie      no    bug"
      ]
     },
     "execution_count": 6,
     "metadata": {},
     "output_type": "execute_result"
    }
   ],
   "source": [
    "pokemon_dict = {'evolution':['Ivysaur','Charmeleon','Wartortle','Metapod'], 'hp':[45,39,44,45],'name':['Bulbasaur','Charmander','Squirtle','Caterpie'],'pokedex':['yes','no','yes','no'],\n",
    "                'type':['grass','fire','water','bug']}\n",
    "pokemon = pd.DataFrame(pokemon_dict)\n",
    "pokemon"
   ]
  },
  {
   "cell_type": "markdown",
   "id": "e6468ec5-8fb6-4781-8a0f-166fe7f0bf92",
   "metadata": {},
   "source": [
    "### **Step 4. Ops...it seems the DataFrame columns are in alphabetical order. Place the order of the columns as name, type, hp, evolution, pokedex**"
   ]
  },
  {
   "cell_type": "code",
   "execution_count": 7,
   "id": "ae1a8971-7508-41fc-88a0-0f4c3e9bd5ce",
   "metadata": {},
   "outputs": [],
   "source": [
    "pokemon = pokemon[['name','type','hp','evolution','pokedex']]"
   ]
  },
  {
   "cell_type": "markdown",
   "id": "b9d1d5db-5b1b-49fb-b1aa-7ea0feb710ac",
   "metadata": {},
   "source": [
    "### **Step 5. Add another column called place, and insert what you have in mind.**"
   ]
  },
  {
   "cell_type": "code",
   "execution_count": 10,
   "id": "b4872771-6c7c-4dd4-9d20-689b0e414ea2",
   "metadata": {},
   "outputs": [
    {
     "name": "stderr",
     "output_type": "stream",
     "text": [
      "C:\\Users\\cs.ABR\\AppData\\Local\\Temp/ipykernel_4516/2696196173.py:1: SettingWithCopyWarning: \n",
      "A value is trying to be set on a copy of a slice from a DataFrame.\n",
      "Try using .loc[row_indexer,col_indexer] = value instead\n",
      "\n",
      "See the caveats in the documentation: https://pandas.pydata.org/pandas-docs/stable/user_guide/indexing.html#returning-a-view-versus-a-copy\n",
      "  pokemon['place'] = ['start','start','start','route']\n"
     ]
    }
   ],
   "source": [
    "pokemon['place'] = ['start','start','start','route']"
   ]
  },
  {
   "cell_type": "code",
   "execution_count": 11,
   "id": "6d14f4de-a5f3-4b47-8952-e25c504fa40b",
   "metadata": {},
   "outputs": [
    {
     "data": {
      "text/html": [
       "<div>\n",
       "<style scoped>\n",
       "    .dataframe tbody tr th:only-of-type {\n",
       "        vertical-align: middle;\n",
       "    }\n",
       "\n",
       "    .dataframe tbody tr th {\n",
       "        vertical-align: top;\n",
       "    }\n",
       "\n",
       "    .dataframe thead th {\n",
       "        text-align: right;\n",
       "    }\n",
       "</style>\n",
       "<table border=\"1\" class=\"dataframe\">\n",
       "  <thead>\n",
       "    <tr style=\"text-align: right;\">\n",
       "      <th></th>\n",
       "      <th>name</th>\n",
       "      <th>type</th>\n",
       "      <th>hp</th>\n",
       "      <th>evolution</th>\n",
       "      <th>pokedex</th>\n",
       "      <th>place</th>\n",
       "    </tr>\n",
       "  </thead>\n",
       "  <tbody>\n",
       "    <tr>\n",
       "      <th>0</th>\n",
       "      <td>Bulbasaur</td>\n",
       "      <td>grass</td>\n",
       "      <td>45</td>\n",
       "      <td>Ivysaur</td>\n",
       "      <td>yes</td>\n",
       "      <td>start</td>\n",
       "    </tr>\n",
       "    <tr>\n",
       "      <th>1</th>\n",
       "      <td>Charmander</td>\n",
       "      <td>fire</td>\n",
       "      <td>39</td>\n",
       "      <td>Charmeleon</td>\n",
       "      <td>no</td>\n",
       "      <td>start</td>\n",
       "    </tr>\n",
       "    <tr>\n",
       "      <th>2</th>\n",
       "      <td>Squirtle</td>\n",
       "      <td>water</td>\n",
       "      <td>44</td>\n",
       "      <td>Wartortle</td>\n",
       "      <td>yes</td>\n",
       "      <td>start</td>\n",
       "    </tr>\n",
       "    <tr>\n",
       "      <th>3</th>\n",
       "      <td>Caterpie</td>\n",
       "      <td>bug</td>\n",
       "      <td>45</td>\n",
       "      <td>Metapod</td>\n",
       "      <td>no</td>\n",
       "      <td>route</td>\n",
       "    </tr>\n",
       "  </tbody>\n",
       "</table>\n",
       "</div>"
      ],
      "text/plain": [
       "         name   type  hp   evolution pokedex  place\n",
       "0   Bulbasaur  grass  45     Ivysaur     yes  start\n",
       "1  Charmander   fire  39  Charmeleon      no  start\n",
       "2    Squirtle  water  44   Wartortle     yes  start\n",
       "3    Caterpie    bug  45     Metapod      no  route"
      ]
     },
     "execution_count": 11,
     "metadata": {},
     "output_type": "execute_result"
    }
   ],
   "source": [
    "pokemon"
   ]
  },
  {
   "cell_type": "markdown",
   "id": "cfb926fe-c697-43f5-b083-1051e28b9dab",
   "metadata": {},
   "source": [
    "### **Step 6. Present the type of each column**"
   ]
  },
  {
   "cell_type": "code",
   "execution_count": 13,
   "id": "143006ba-6f15-471a-9b79-5533c76a988a",
   "metadata": {},
   "outputs": [
    {
     "data": {
      "text/plain": [
       "name         object\n",
       "type         object\n",
       "hp            int64\n",
       "evolution    object\n",
       "pokedex      object\n",
       "place        object\n",
       "dtype: object"
      ]
     },
     "execution_count": 13,
     "metadata": {},
     "output_type": "execute_result"
    }
   ],
   "source": [
    "pokemon.dtypes"
   ]
  }
 ],
 "metadata": {
  "kernelspec": {
   "display_name": "Python 3 (ipykernel)",
   "language": "python",
   "name": "python3"
  },
  "language_info": {
   "codemirror_mode": {
    "name": "ipython",
    "version": 3
   },
   "file_extension": ".py",
   "mimetype": "text/x-python",
   "name": "python",
   "nbconvert_exporter": "python",
   "pygments_lexer": "ipython3",
   "version": "3.8.12"
  }
 },
 "nbformat": 4,
 "nbformat_minor": 5
}
