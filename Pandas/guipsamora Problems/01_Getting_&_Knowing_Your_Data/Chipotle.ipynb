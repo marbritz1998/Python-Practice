{
 "cells": [
  {
   "cell_type": "markdown",
   "id": "75cb1ed7-e6c9-45be-a8ab-61e61dfc15eb",
   "metadata": {},
   "source": [
    "**Ex2 - Getting and Knowing your Data**\n",
    "This time we are going to pull data directly from the internet. Special thanks to: https://github.com/justmarkham for sharing the dataset and materials."
   ]
  },
  {
   "cell_type": "markdown",
   "id": "a2b760fa-2577-4e76-86b8-a4f98d103109",
   "metadata": {},
   "source": [
    "### **Step 1. Import the necessary libraries**"
   ]
  },
  {
   "cell_type": "code",
   "execution_count": 1,
   "id": "8a4d5d92-92e5-47a0-a6f6-19e5d13dfe5f",
   "metadata": {},
   "outputs": [],
   "source": [
    "import pandas as pd\n",
    "import numpy as np"
   ]
  },
  {
   "cell_type": "markdown",
   "id": "bac4d114-a8fa-4e68-aa35-74f040b61656",
   "metadata": {},
   "source": [
    "### **Step 2. Import the dataset from this**"
   ]
  },
  {
   "cell_type": "code",
   "execution_count": 119,
   "id": "31bddb79-9e35-4f8e-8891-9356255e198e",
   "metadata": {},
   "outputs": [],
   "source": [
    "data = pd.read_csv('https://raw.githubusercontent.com/justmarkham/DAT8/master/data/chipotle.tsv', sep = '\\t')"
   ]
  },
  {
   "cell_type": "markdown",
   "id": "bd428832-5c27-4133-9fb2-a5531212ffcc",
   "metadata": {},
   "source": [
    "### **Step 3. Assign it to a variable called chipo**"
   ]
  },
  {
   "cell_type": "code",
   "execution_count": 120,
   "id": "584395b2-4e6e-484a-a308-ee20c502f961",
   "metadata": {},
   "outputs": [],
   "source": [
    "chipo = data"
   ]
  },
  {
   "cell_type": "markdown",
   "id": "4ed91b36-e74c-4fa3-9337-a4e2d9fa4d69",
   "metadata": {},
   "source": [
    "### **Step 4. See the first 10 entries**"
   ]
  },
  {
   "cell_type": "code",
   "execution_count": 8,
   "id": "3ef0c0e1-24fc-4d62-a0ba-70b2e2e6b15f",
   "metadata": {},
   "outputs": [
    {
     "data": {
      "text/html": [
       "<div>\n",
       "<style scoped>\n",
       "    .dataframe tbody tr th:only-of-type {\n",
       "        vertical-align: middle;\n",
       "    }\n",
       "\n",
       "    .dataframe tbody tr th {\n",
       "        vertical-align: top;\n",
       "    }\n",
       "\n",
       "    .dataframe thead th {\n",
       "        text-align: right;\n",
       "    }\n",
       "</style>\n",
       "<table border=\"1\" class=\"dataframe\">\n",
       "  <thead>\n",
       "    <tr style=\"text-align: right;\">\n",
       "      <th></th>\n",
       "      <th>order_id</th>\n",
       "      <th>quantity</th>\n",
       "      <th>item_name</th>\n",
       "      <th>choice_description</th>\n",
       "      <th>item_price</th>\n",
       "    </tr>\n",
       "  </thead>\n",
       "  <tbody>\n",
       "    <tr>\n",
       "      <th>0</th>\n",
       "      <td>1</td>\n",
       "      <td>1</td>\n",
       "      <td>Chips and Fresh Tomato Salsa</td>\n",
       "      <td>NaN</td>\n",
       "      <td>$2.39</td>\n",
       "    </tr>\n",
       "    <tr>\n",
       "      <th>1</th>\n",
       "      <td>1</td>\n",
       "      <td>1</td>\n",
       "      <td>Izze</td>\n",
       "      <td>[Clementine]</td>\n",
       "      <td>$3.39</td>\n",
       "    </tr>\n",
       "    <tr>\n",
       "      <th>2</th>\n",
       "      <td>1</td>\n",
       "      <td>1</td>\n",
       "      <td>Nantucket Nectar</td>\n",
       "      <td>[Apple]</td>\n",
       "      <td>$3.39</td>\n",
       "    </tr>\n",
       "    <tr>\n",
       "      <th>3</th>\n",
       "      <td>1</td>\n",
       "      <td>1</td>\n",
       "      <td>Chips and Tomatillo-Green Chili Salsa</td>\n",
       "      <td>NaN</td>\n",
       "      <td>$2.39</td>\n",
       "    </tr>\n",
       "    <tr>\n",
       "      <th>4</th>\n",
       "      <td>2</td>\n",
       "      <td>2</td>\n",
       "      <td>Chicken Bowl</td>\n",
       "      <td>[Tomatillo-Red Chili Salsa (Hot), [Black Beans...</td>\n",
       "      <td>$16.98</td>\n",
       "    </tr>\n",
       "    <tr>\n",
       "      <th>5</th>\n",
       "      <td>3</td>\n",
       "      <td>1</td>\n",
       "      <td>Chicken Bowl</td>\n",
       "      <td>[Fresh Tomato Salsa (Mild), [Rice, Cheese, Sou...</td>\n",
       "      <td>$10.98</td>\n",
       "    </tr>\n",
       "    <tr>\n",
       "      <th>6</th>\n",
       "      <td>3</td>\n",
       "      <td>1</td>\n",
       "      <td>Side of Chips</td>\n",
       "      <td>NaN</td>\n",
       "      <td>$1.69</td>\n",
       "    </tr>\n",
       "    <tr>\n",
       "      <th>7</th>\n",
       "      <td>4</td>\n",
       "      <td>1</td>\n",
       "      <td>Steak Burrito</td>\n",
       "      <td>[Tomatillo Red Chili Salsa, [Fajita Vegetables...</td>\n",
       "      <td>$11.75</td>\n",
       "    </tr>\n",
       "    <tr>\n",
       "      <th>8</th>\n",
       "      <td>4</td>\n",
       "      <td>1</td>\n",
       "      <td>Steak Soft Tacos</td>\n",
       "      <td>[Tomatillo Green Chili Salsa, [Pinto Beans, Ch...</td>\n",
       "      <td>$9.25</td>\n",
       "    </tr>\n",
       "    <tr>\n",
       "      <th>9</th>\n",
       "      <td>5</td>\n",
       "      <td>1</td>\n",
       "      <td>Steak Burrito</td>\n",
       "      <td>[Fresh Tomato Salsa, [Rice, Black Beans, Pinto...</td>\n",
       "      <td>$9.25</td>\n",
       "    </tr>\n",
       "  </tbody>\n",
       "</table>\n",
       "</div>"
      ],
      "text/plain": [
       "   order_id  quantity                              item_name  \\\n",
       "0         1         1           Chips and Fresh Tomato Salsa   \n",
       "1         1         1                                   Izze   \n",
       "2         1         1                       Nantucket Nectar   \n",
       "3         1         1  Chips and Tomatillo-Green Chili Salsa   \n",
       "4         2         2                           Chicken Bowl   \n",
       "5         3         1                           Chicken Bowl   \n",
       "6         3         1                          Side of Chips   \n",
       "7         4         1                          Steak Burrito   \n",
       "8         4         1                       Steak Soft Tacos   \n",
       "9         5         1                          Steak Burrito   \n",
       "\n",
       "                                  choice_description item_price  \n",
       "0                                                NaN     $2.39   \n",
       "1                                       [Clementine]     $3.39   \n",
       "2                                            [Apple]     $3.39   \n",
       "3                                                NaN     $2.39   \n",
       "4  [Tomatillo-Red Chili Salsa (Hot), [Black Beans...    $16.98   \n",
       "5  [Fresh Tomato Salsa (Mild), [Rice, Cheese, Sou...    $10.98   \n",
       "6                                                NaN     $1.69   \n",
       "7  [Tomatillo Red Chili Salsa, [Fajita Vegetables...    $11.75   \n",
       "8  [Tomatillo Green Chili Salsa, [Pinto Beans, Ch...     $9.25   \n",
       "9  [Fresh Tomato Salsa, [Rice, Black Beans, Pinto...     $9.25   "
      ]
     },
     "execution_count": 8,
     "metadata": {},
     "output_type": "execute_result"
    }
   ],
   "source": [
    "chipo.head(10)"
   ]
  },
  {
   "cell_type": "markdown",
   "id": "08bc8ec4-bf70-44f1-ab71-6b38accbb297",
   "metadata": {},
   "source": [
    "### **Step 5. What is the number of observations in the dataset?**"
   ]
  },
  {
   "cell_type": "code",
   "execution_count": 10,
   "id": "922b5532-cd29-4c96-924a-5000727ba213",
   "metadata": {},
   "outputs": [
    {
     "name": "stdout",
     "output_type": "stream",
     "text": [
      "<class 'pandas.core.frame.DataFrame'>\n",
      "RangeIndex: 4622 entries, 0 to 4621\n",
      "Data columns (total 5 columns):\n",
      " #   Column              Non-Null Count  Dtype \n",
      "---  ------              --------------  ----- \n",
      " 0   order_id            4622 non-null   int64 \n",
      " 1   quantity            4622 non-null   int64 \n",
      " 2   item_name           4622 non-null   object\n",
      " 3   choice_description  3376 non-null   object\n",
      " 4   item_price          4622 non-null   object\n",
      "dtypes: int64(2), object(3)\n",
      "memory usage: 180.7+ KB\n"
     ]
    }
   ],
   "source": [
    "chipo.info()"
   ]
  },
  {
   "cell_type": "markdown",
   "id": "45285888-d602-4551-a5b2-388fb66c6313",
   "metadata": {},
   "source": [
    "There is a total of 4,622 observations, although choice description only has 3,376 non-null values"
   ]
  },
  {
   "cell_type": "markdown",
   "id": "5f78628c-199d-49d6-aedd-6bc060c324a8",
   "metadata": {},
   "source": [
    "### **Step 6. What is the number of columns in the dataset?**"
   ]
  },
  {
   "cell_type": "code",
   "execution_count": 12,
   "id": "6bb4e4d6-2b7a-4019-8c07-b1ee4cd21229",
   "metadata": {},
   "outputs": [
    {
     "data": {
      "text/plain": [
       "5"
      ]
     },
     "execution_count": 12,
     "metadata": {},
     "output_type": "execute_result"
    }
   ],
   "source": [
    "len(chipo.columns)"
   ]
  },
  {
   "cell_type": "code",
   "execution_count": 14,
   "id": "bb5eea14-1d4e-4457-ab97-ab1852996546",
   "metadata": {},
   "outputs": [
    {
     "data": {
      "text/plain": [
       "(4622, 5)"
      ]
     },
     "execution_count": 14,
     "metadata": {},
     "output_type": "execute_result"
    }
   ],
   "source": [
    "chipo.shape"
   ]
  },
  {
   "cell_type": "code",
   "execution_count": 17,
   "id": "474f7597-f9ec-4175-9b98-429de97cd479",
   "metadata": {},
   "outputs": [
    {
     "data": {
      "text/plain": [
       "5"
      ]
     },
     "execution_count": 17,
     "metadata": {},
     "output_type": "execute_result"
    }
   ],
   "source": [
    "chipo.shape[1]"
   ]
  },
  {
   "cell_type": "markdown",
   "id": "cbc978bd-0d52-4b6a-9f20-4ace0cf4ac25",
   "metadata": {},
   "source": [
    "There are 5 columns"
   ]
  },
  {
   "cell_type": "markdown",
   "id": "72a133c6-d721-472a-a403-0083e3b65b4c",
   "metadata": {},
   "source": [
    "### **Step 7. Print the name of all the columns**"
   ]
  },
  {
   "cell_type": "code",
   "execution_count": 18,
   "id": "719d626b-cee5-4c25-b2f7-411e1f216425",
   "metadata": {},
   "outputs": [
    {
     "data": {
      "text/plain": [
       "Index(['order_id', 'quantity', 'item_name', 'choice_description',\n",
       "       'item_price'],\n",
       "      dtype='object')"
      ]
     },
     "execution_count": 18,
     "metadata": {},
     "output_type": "execute_result"
    }
   ],
   "source": [
    "chipo.columns"
   ]
  },
  {
   "cell_type": "code",
   "execution_count": 19,
   "id": "d07bc3b5-c5a8-4358-b8aa-b6a9e7dbcc4e",
   "metadata": {},
   "outputs": [
    {
     "name": "stdout",
     "output_type": "stream",
     "text": [
      "<class 'pandas.core.frame.DataFrame'>\n",
      "RangeIndex: 4622 entries, 0 to 4621\n",
      "Data columns (total 5 columns):\n",
      " #   Column              Non-Null Count  Dtype \n",
      "---  ------              --------------  ----- \n",
      " 0   order_id            4622 non-null   int64 \n",
      " 1   quantity            4622 non-null   int64 \n",
      " 2   item_name           4622 non-null   object\n",
      " 3   choice_description  3376 non-null   object\n",
      " 4   item_price          4622 non-null   object\n",
      "dtypes: int64(2), object(3)\n",
      "memory usage: 180.7+ KB\n"
     ]
    }
   ],
   "source": [
    "chipo.info()"
   ]
  },
  {
   "cell_type": "markdown",
   "id": "6d4985a1-1edd-49cf-802b-6679954b7215",
   "metadata": {},
   "source": [
    "### **Step 8. How is the dataset indexed?**"
   ]
  },
  {
   "cell_type": "code",
   "execution_count": 20,
   "id": "a2f31ef6-3e60-42fa-a0f7-0e0fb75f9109",
   "metadata": {},
   "outputs": [
    {
     "data": {
      "text/plain": [
       "RangeIndex(start=0, stop=4622, step=1)"
      ]
     },
     "execution_count": 20,
     "metadata": {},
     "output_type": "execute_result"
    }
   ],
   "source": [
    "chipo.index"
   ]
  },
  {
   "cell_type": "markdown",
   "id": "22f9243a-5e74-4e12-946f-24363e3ed184",
   "metadata": {},
   "source": [
    "The Index of the dataset is a RangeIndex from 0 to 4,622 in steps of 1"
   ]
  },
  {
   "cell_type": "markdown",
   "id": "57cdf24c-1ca1-4a3f-95c7-d8027b2f794e",
   "metadata": {},
   "source": [
    "<div class=\"alert alert-block alert-warning\">\n",
    "    For this question, I misinterpreted it as the most ordered item in a single order, when they were looking for the most ordered item across all order"
   ]
  },
  {
   "cell_type": "markdown",
   "id": "582a5a84-69ca-43de-a125-945db32727da",
   "metadata": {},
   "source": [
    "### **Step 9. Which was the most-ordered item?**"
   ]
  },
  {
   "cell_type": "code",
   "execution_count": 23,
   "id": "405061e6-f39f-4ab5-abab-d00b7900e85a",
   "metadata": {},
   "outputs": [
    {
     "data": {
      "text/html": [
       "<div>\n",
       "<style scoped>\n",
       "    .dataframe tbody tr th:only-of-type {\n",
       "        vertical-align: middle;\n",
       "    }\n",
       "\n",
       "    .dataframe tbody tr th {\n",
       "        vertical-align: top;\n",
       "    }\n",
       "\n",
       "    .dataframe thead th {\n",
       "        text-align: right;\n",
       "    }\n",
       "</style>\n",
       "<table border=\"1\" class=\"dataframe\">\n",
       "  <thead>\n",
       "    <tr style=\"text-align: right;\">\n",
       "      <th></th>\n",
       "      <th>order_id</th>\n",
       "      <th>quantity</th>\n",
       "      <th>item_name</th>\n",
       "      <th>choice_description</th>\n",
       "      <th>item_price</th>\n",
       "    </tr>\n",
       "  </thead>\n",
       "  <tbody>\n",
       "    <tr>\n",
       "      <th>3598</th>\n",
       "      <td>1443</td>\n",
       "      <td>15</td>\n",
       "      <td>Chips and Fresh Tomato Salsa</td>\n",
       "      <td>NaN</td>\n",
       "      <td>$44.25</td>\n",
       "    </tr>\n",
       "  </tbody>\n",
       "</table>\n",
       "</div>"
      ],
      "text/plain": [
       "      order_id  quantity                     item_name choice_description  \\\n",
       "3598      1443        15  Chips and Fresh Tomato Salsa                NaN   \n",
       "\n",
       "     item_price  \n",
       "3598    $44.25   "
      ]
     },
     "execution_count": 23,
     "metadata": {},
     "output_type": "execute_result"
    }
   ],
   "source": [
    "chipo[chipo['quantity'] == max(chipo['quantity'])]"
   ]
  },
  {
   "cell_type": "markdown",
   "id": "ce2d3381-a0ff-4eb7-8804-30ba8b7d5e6d",
   "metadata": {},
   "source": [
    "The Most ordered item is 'Chips and Fresh Tomato Salsa'"
   ]
  },
  {
   "cell_type": "markdown",
   "id": "c9b65193-a77c-4b91-8597-f65014e81735",
   "metadata": {},
   "source": [
    "#### **The correction**"
   ]
  },
  {
   "cell_type": "code",
   "execution_count": 96,
   "id": "53129e7b-c4d9-4f3e-bce1-4d88a255b1c6",
   "metadata": {},
   "outputs": [
    {
     "data": {
      "text/html": [
       "<div>\n",
       "<style scoped>\n",
       "    .dataframe tbody tr th:only-of-type {\n",
       "        vertical-align: middle;\n",
       "    }\n",
       "\n",
       "    .dataframe tbody tr th {\n",
       "        vertical-align: top;\n",
       "    }\n",
       "\n",
       "    .dataframe thead th {\n",
       "        text-align: right;\n",
       "    }\n",
       "</style>\n",
       "<table border=\"1\" class=\"dataframe\">\n",
       "  <thead>\n",
       "    <tr style=\"text-align: right;\">\n",
       "      <th></th>\n",
       "      <th>item_name</th>\n",
       "      <th>quantity</th>\n",
       "    </tr>\n",
       "  </thead>\n",
       "  <tbody>\n",
       "    <tr>\n",
       "      <th>17</th>\n",
       "      <td>Chicken Bowl</td>\n",
       "      <td>761</td>\n",
       "    </tr>\n",
       "  </tbody>\n",
       "</table>\n",
       "</div>"
      ],
      "text/plain": [
       "       item_name  quantity\n",
       "17  Chicken Bowl       761"
      ]
     },
     "execution_count": 96,
     "metadata": {},
     "output_type": "execute_result"
    }
   ],
   "source": [
    "chipo.groupby(['item_name']).agg({'quantity':'sum'}).reset_index().sort_values('quantity', ascending = False).head(1)"
   ]
  },
  {
   "cell_type": "code",
   "execution_count": 109,
   "id": "5c7b3ced-121a-4e10-98a8-e196928d6dbf",
   "metadata": {},
   "outputs": [
    {
     "data": {
      "text/plain": [
       "item_name    Veggie Soft Tacos\n",
       "quantity                   761\n",
       "dtype: object"
      ]
     },
     "execution_count": 109,
     "metadata": {},
     "output_type": "execute_result"
    }
   ],
   "source": [
    "chipo.groupby(['item_name']).agg({'quantity':'sum'}).reset_index().max()\n",
    "#so the reason that Veffie Soft Tacos is showing up is because max() is looking at the max index and giving the item_name, then it is looking at the max quantity and giving the max there."
   ]
  },
  {
   "cell_type": "code",
   "execution_count": 115,
   "id": "3674a97a-b5a2-4de2-8856-4984cdc1fb76",
   "metadata": {},
   "outputs": [],
   "source": [
    "#another way to do the same thing\n",
    "grouped = chipo.groupby(['item_name']).agg({'quantity':'sum'})"
   ]
  },
  {
   "cell_type": "code",
   "execution_count": 114,
   "id": "25dbd621-98f2-4e7a-a795-b2c659bd801b",
   "metadata": {},
   "outputs": [
    {
     "data": {
      "text/html": [
       "<div>\n",
       "<style scoped>\n",
       "    .dataframe tbody tr th:only-of-type {\n",
       "        vertical-align: middle;\n",
       "    }\n",
       "\n",
       "    .dataframe tbody tr th {\n",
       "        vertical-align: top;\n",
       "    }\n",
       "\n",
       "    .dataframe thead th {\n",
       "        text-align: right;\n",
       "    }\n",
       "</style>\n",
       "<table border=\"1\" class=\"dataframe\">\n",
       "  <thead>\n",
       "    <tr style=\"text-align: right;\">\n",
       "      <th></th>\n",
       "      <th>quantity</th>\n",
       "    </tr>\n",
       "    <tr>\n",
       "      <th>item_name</th>\n",
       "      <th></th>\n",
       "    </tr>\n",
       "  </thead>\n",
       "  <tbody>\n",
       "    <tr>\n",
       "      <th>Chicken Bowl</th>\n",
       "      <td>761</td>\n",
       "    </tr>\n",
       "  </tbody>\n",
       "</table>\n",
       "</div>"
      ],
      "text/plain": [
       "              quantity\n",
       "item_name             \n",
       "Chicken Bowl       761"
      ]
     },
     "execution_count": 114,
     "metadata": {},
     "output_type": "execute_result"
    }
   ],
   "source": [
    "grouped[grouped['quantity'] == max(grouped['quantity'])]"
   ]
  },
  {
   "cell_type": "markdown",
   "id": "b0c12f66-770b-4ddd-8e88-4c25e4b7ef54",
   "metadata": {},
   "source": [
    "<div class=\"alert alert-block alert-warning\">\n",
    "    So since I misunderstood the above question, then I misunderstood this question also, the answer for Step 10. is 761"
   ]
  },
  {
   "cell_type": "markdown",
   "id": "f7e26c66-aabc-44ab-85d1-6b94ac3b7a93",
   "metadata": {},
   "source": [
    "### **Step 10. For the most-ordered item, how many items were ordered?**"
   ]
  },
  {
   "cell_type": "markdown",
   "id": "482bd98b-4869-4a28-9adf-2366b0298fad",
   "metadata": {},
   "source": [
    "Chips and Fresh Tomato Salsa had 15 orders"
   ]
  },
  {
   "cell_type": "markdown",
   "id": "c248a631-4bd3-4a41-9814-fcfd64ae4568",
   "metadata": {},
   "source": [
    "<div class=\"alert alert-block alert-danger\">\n",
    "<b>Step 11. What was the most ordered item in the choice_description column?"
   ]
  },
  {
   "cell_type": "markdown",
   "id": "a9c47e52-52ac-4988-84ed-fcaf488852ea",
   "metadata": {},
   "source": [
    "I am not sure how to handle this becuase the choice_description column is a string that contains lists within lists"
   ]
  },
  {
   "cell_type": "markdown",
   "id": "55b8f96d-d8a4-4042-aa85-edbb9eb7f039",
   "metadata": {},
   "source": [
    "looking at sample solution, I thought I would have to parse through the choice descriptions, but instead they just used the whole value of the string, which seems a little disingenuous\n",
    "because a choice_description could be '[Tomatoes, [Diet Coke, Eggs]]' and ['Tomatoes'] and here tomatoes would only have 1 count, even though it appears in both choice descriptions."
   ]
  },
  {
   "cell_type": "code",
   "execution_count": 116,
   "id": "8b99610b-407c-4ad2-b2b3-6677f8b056f9",
   "metadata": {},
   "outputs": [
    {
     "data": {
      "text/html": [
       "<div>\n",
       "<style scoped>\n",
       "    .dataframe tbody tr th:only-of-type {\n",
       "        vertical-align: middle;\n",
       "    }\n",
       "\n",
       "    .dataframe tbody tr th {\n",
       "        vertical-align: top;\n",
       "    }\n",
       "\n",
       "    .dataframe thead th {\n",
       "        text-align: right;\n",
       "    }\n",
       "</style>\n",
       "<table border=\"1\" class=\"dataframe\">\n",
       "  <thead>\n",
       "    <tr style=\"text-align: right;\">\n",
       "      <th></th>\n",
       "      <th>order_id</th>\n",
       "      <th>quantity</th>\n",
       "      <th>item_price</th>\n",
       "    </tr>\n",
       "    <tr>\n",
       "      <th>choice_description</th>\n",
       "      <th></th>\n",
       "      <th></th>\n",
       "      <th></th>\n",
       "    </tr>\n",
       "  </thead>\n",
       "  <tbody>\n",
       "    <tr>\n",
       "      <th>[Diet Coke]</th>\n",
       "      <td>123455</td>\n",
       "      <td>159</td>\n",
       "      <td>326.71</td>\n",
       "    </tr>\n",
       "  </tbody>\n",
       "</table>\n",
       "</div>"
      ],
      "text/plain": [
       "                    order_id  quantity  item_price\n",
       "choice_description                                \n",
       "[Diet Coke]           123455       159      326.71"
      ]
     },
     "execution_count": 116,
     "metadata": {},
     "output_type": "execute_result"
    }
   ],
   "source": [
    "c = chipo.groupby('choice_description').sum()\n",
    "c = c.sort_values(['quantity'], ascending=False)\n",
    "c.head(1)\n",
    "# Diet Coke 159"
   ]
  },
  {
   "cell_type": "markdown",
   "id": "d7ee08bc-d9cf-44ad-997a-9991c8be9a51",
   "metadata": {},
   "source": [
    "### **Step 12. How many items were ordered in total?**"
   ]
  },
  {
   "cell_type": "code",
   "execution_count": 44,
   "id": "a06bbc1a-dd1f-441e-8e13-75515a294a5e",
   "metadata": {},
   "outputs": [
    {
     "data": {
      "text/html": [
       "<div>\n",
       "<style scoped>\n",
       "    .dataframe tbody tr th:only-of-type {\n",
       "        vertical-align: middle;\n",
       "    }\n",
       "\n",
       "    .dataframe tbody tr th {\n",
       "        vertical-align: top;\n",
       "    }\n",
       "\n",
       "    .dataframe thead th {\n",
       "        text-align: right;\n",
       "    }\n",
       "</style>\n",
       "<table border=\"1\" class=\"dataframe\">\n",
       "  <thead>\n",
       "    <tr style=\"text-align: right;\">\n",
       "      <th></th>\n",
       "      <th>order_id</th>\n",
       "      <th>quantity</th>\n",
       "      <th>item_name</th>\n",
       "      <th>choice_description</th>\n",
       "      <th>item_price</th>\n",
       "    </tr>\n",
       "  </thead>\n",
       "  <tbody>\n",
       "    <tr>\n",
       "      <th>0</th>\n",
       "      <td>1</td>\n",
       "      <td>1</td>\n",
       "      <td>Chips and Fresh Tomato Salsa</td>\n",
       "      <td>NaN</td>\n",
       "      <td>$2.39</td>\n",
       "    </tr>\n",
       "    <tr>\n",
       "      <th>1</th>\n",
       "      <td>1</td>\n",
       "      <td>1</td>\n",
       "      <td>Izze</td>\n",
       "      <td>[Clementine]</td>\n",
       "      <td>$3.39</td>\n",
       "    </tr>\n",
       "    <tr>\n",
       "      <th>2</th>\n",
       "      <td>1</td>\n",
       "      <td>1</td>\n",
       "      <td>Nantucket Nectar</td>\n",
       "      <td>[Apple]</td>\n",
       "      <td>$3.39</td>\n",
       "    </tr>\n",
       "    <tr>\n",
       "      <th>3</th>\n",
       "      <td>1</td>\n",
       "      <td>1</td>\n",
       "      <td>Chips and Tomatillo-Green Chili Salsa</td>\n",
       "      <td>NaN</td>\n",
       "      <td>$2.39</td>\n",
       "    </tr>\n",
       "    <tr>\n",
       "      <th>4</th>\n",
       "      <td>2</td>\n",
       "      <td>2</td>\n",
       "      <td>Chicken Bowl</td>\n",
       "      <td>[Tomatillo-Red Chili Salsa (Hot), [Black Beans...</td>\n",
       "      <td>$16.98</td>\n",
       "    </tr>\n",
       "  </tbody>\n",
       "</table>\n",
       "</div>"
      ],
      "text/plain": [
       "   order_id  quantity                              item_name  \\\n",
       "0         1         1           Chips and Fresh Tomato Salsa   \n",
       "1         1         1                                   Izze   \n",
       "2         1         1                       Nantucket Nectar   \n",
       "3         1         1  Chips and Tomatillo-Green Chili Salsa   \n",
       "4         2         2                           Chicken Bowl   \n",
       "\n",
       "                                  choice_description item_price  \n",
       "0                                                NaN     $2.39   \n",
       "1                                       [Clementine]     $3.39   \n",
       "2                                            [Apple]     $3.39   \n",
       "3                                                NaN     $2.39   \n",
       "4  [Tomatillo-Red Chili Salsa (Hot), [Black Beans...    $16.98   "
      ]
     },
     "execution_count": 44,
     "metadata": {},
     "output_type": "execute_result"
    }
   ],
   "source": [
    "chipo.head()"
   ]
  },
  {
   "cell_type": "code",
   "execution_count": 45,
   "id": "566c44c5-6f10-476d-85a5-36ca4a3df655",
   "metadata": {},
   "outputs": [
    {
     "data": {
      "text/plain": [
       "4972"
      ]
     },
     "execution_count": 45,
     "metadata": {},
     "output_type": "execute_result"
    }
   ],
   "source": [
    "chipo['quantity'].sum()"
   ]
  },
  {
   "cell_type": "markdown",
   "id": "b3b9b3f1-5238-4cac-8b06-0cefac10c1af",
   "metadata": {},
   "source": [
    "The total amount of items ordered was 4972"
   ]
  },
  {
   "cell_type": "markdown",
   "id": "217e86c3-af1a-4b9e-a272-267b3351d6ef",
   "metadata": {},
   "source": [
    "<div class=\"alert alert-block alert-warning\">\n",
    "    The sample solution for Step 13"
   ]
  },
  {
   "cell_type": "code",
   "execution_count": 121,
   "id": "91e4d9a7-c8cd-46ce-a902-1fb295fda05d",
   "metadata": {},
   "outputs": [],
   "source": [
    "dollarizer = lambda x: float(x[1:-1])\n",
    "chipo.item_price = chipo.item_price.apply(dollarizer)"
   ]
  },
  {
   "cell_type": "markdown",
   "id": "9e43bf33-bad1-4002-8396-62601299aafd",
   "metadata": {},
   "source": [
    "So they are making use of the fact that the '$' only appears at the first place in each element in the item_price column, so they are making a variable x, be everything after the dollar sign\n",
    "and then converting that to a float, then using .apply() to apply the lambda function, very interesting"
   ]
  },
  {
   "cell_type": "markdown",
   "id": "82702e6c-71b7-4d99-8e02-28a7b56e04f5",
   "metadata": {},
   "source": [
    "### **Step 13. Turn the item price into a float**"
   ]
  },
  {
   "cell_type": "code",
   "execution_count": 53,
   "id": "a7554431-ac89-4c30-bc78-1b58b8919953",
   "metadata": {},
   "outputs": [
    {
     "name": "stdout",
     "output_type": "stream",
     "text": [
      "<class 'pandas.core.frame.DataFrame'>\n",
      "RangeIndex: 4622 entries, 0 to 4621\n",
      "Data columns (total 5 columns):\n",
      " #   Column              Non-Null Count  Dtype \n",
      "---  ------              --------------  ----- \n",
      " 0   order_id            4622 non-null   int64 \n",
      " 1   quantity            4622 non-null   int64 \n",
      " 2   item_name           4622 non-null   object\n",
      " 3   choice_description  3376 non-null   object\n",
      " 4   item_price          4622 non-null   object\n",
      "dtypes: int64(2), object(3)\n",
      "memory usage: 180.7+ KB\n"
     ]
    }
   ],
   "source": [
    "chipo.info()"
   ]
  },
  {
   "cell_type": "code",
   "execution_count": 72,
   "id": "b65fbaf7-09d9-43c4-86f2-520227167f0f",
   "metadata": {},
   "outputs": [
    {
     "name": "stderr",
     "output_type": "stream",
     "text": [
      "C:\\Users\\cs.ABR\\AppData\\Local\\Temp/ipykernel_13496/69540394.py:1: FutureWarning: The default value of regex will change from True to False in a future version. In addition, single character regular expressions will *not* be treated as literal strings when regex=True.\n",
      "  chipo['item_price'] = chipo['item_price'].str.replace('$',\"\").astype(float)\n"
     ]
    }
   ],
   "source": [
    "chipo['item_price'] = chipo['item_price'].str.replace('$',\"\").astype(float)"
   ]
  },
  {
   "cell_type": "code",
   "execution_count": 73,
   "id": "c5c082ea-c209-405d-9404-d293a87eb307",
   "metadata": {},
   "outputs": [
    {
     "name": "stdout",
     "output_type": "stream",
     "text": [
      "<class 'pandas.core.frame.DataFrame'>\n",
      "RangeIndex: 4622 entries, 0 to 4621\n",
      "Data columns (total 5 columns):\n",
      " #   Column              Non-Null Count  Dtype  \n",
      "---  ------              --------------  -----  \n",
      " 0   order_id            4622 non-null   int64  \n",
      " 1   quantity            4622 non-null   int64  \n",
      " 2   item_name           4622 non-null   object \n",
      " 3   choice_description  3376 non-null   object \n",
      " 4   item_price          4622 non-null   float64\n",
      "dtypes: float64(1), int64(2), object(2)\n",
      "memory usage: 180.7+ KB\n"
     ]
    }
   ],
   "source": [
    "chipo.info()"
   ]
  },
  {
   "cell_type": "code",
   "execution_count": 74,
   "id": "3fac617e-010c-4073-a428-33e2488108bd",
   "metadata": {},
   "outputs": [],
   "source": [
    "#they recommend using a lambda function, will look at sample solutions when done going through the exercises myself"
   ]
  },
  {
   "cell_type": "markdown",
   "id": "5f0266da-001c-47d2-bd16-37b7b0588d2f",
   "metadata": {},
   "source": [
    "<div class=\"alert alert-block alert-warning\">\n",
    "Revenue is the price * the quantity"
   ]
  },
  {
   "cell_type": "markdown",
   "id": "965d34e6-3c77-43b6-b363-e033dbeb8d57",
   "metadata": {},
   "source": [
    "### **Step 14. How much was the revenue for the period in the dataset?**"
   ]
  },
  {
   "cell_type": "code",
   "execution_count": 123,
   "id": "20d0f570-bfee-4811-96e2-4632e355f77f",
   "metadata": {},
   "outputs": [
    {
     "data": {
      "text/plain": [
       "39237.02"
      ]
     },
     "execution_count": 123,
     "metadata": {},
     "output_type": "execute_result"
    }
   ],
   "source": [
    "revenue = chipo['item_price'] * chipo['quantity']\n",
    "revenue.sum()"
   ]
  },
  {
   "cell_type": "markdown",
   "id": "34676ddb-5d97-4101-a537-d2ebcf3c8658",
   "metadata": {},
   "source": [
    "The revenue for the period is $39,237.02"
   ]
  },
  {
   "cell_type": "markdown",
   "id": "0ac04c1b-7b9a-4d31-b202-742e66f432c5",
   "metadata": {},
   "source": [
    "<div class=\"alert alert-block alert-warning\">\n",
    "    There are multiple rows with the same order_id, So I should have used value_counts() and then sum()"
   ]
  },
  {
   "cell_type": "markdown",
   "id": "bbf14e54-2fdb-4b2a-b6a5-bc564927d254",
   "metadata": {},
   "source": [
    "### **Step 15. How many orders were made in the period?**"
   ]
  },
  {
   "cell_type": "code",
   "execution_count": 77,
   "id": "2762d6fc-bf8a-453b-82e1-3f1dca5b7bce",
   "metadata": {},
   "outputs": [
    {
     "data": {
      "text/plain": [
       "4622"
      ]
     },
     "execution_count": 77,
     "metadata": {},
     "output_type": "execute_result"
    }
   ],
   "source": [
    "chipo['order_id'].count()"
   ]
  },
  {
   "cell_type": "markdown",
   "id": "050d3cce-a47a-430e-b82c-b9b5fca3b01c",
   "metadata": {},
   "source": [
    "There were 4,622 orders made in the period"
   ]
  },
  {
   "cell_type": "markdown",
   "id": "d5966349-7767-416c-a886-868728fd0981",
   "metadata": {},
   "source": [
    "Sample Solution for STEP 15"
   ]
  },
  {
   "cell_type": "code",
   "execution_count": 124,
   "id": "279d3409-62c7-47e4-92f9-d40375c15f7f",
   "metadata": {},
   "outputs": [
    {
     "data": {
      "text/plain": [
       "1834"
      ]
     },
     "execution_count": 124,
     "metadata": {},
     "output_type": "execute_result"
    }
   ],
   "source": [
    "orders = chipo.order_id.value_counts().count()\n",
    "orders"
   ]
  },
  {
   "cell_type": "markdown",
   "id": "428051a6-d5e3-4f66-8aa5-26f63168cdd5",
   "metadata": {},
   "source": [
    "<div class=\"alert alert-block alert-warning\">\n",
    "    Again, I did not properly calculated revenue, so must properly calculate it to get this question right"
   ]
  },
  {
   "cell_type": "markdown",
   "id": "aa96dbf1-5ede-4227-b4dd-a7f402dd0586",
   "metadata": {},
   "source": [
    "### **Step 16. What is the average revenue amount per order?**"
   ]
  },
  {
   "cell_type": "code",
   "execution_count": 126,
   "id": "51eb693e-f9c5-4d14-952c-0eb91b5caf37",
   "metadata": {},
   "outputs": [
    {
     "data": {
      "text/plain": [
       "8.489186499350943"
      ]
     },
     "execution_count": 126,
     "metadata": {},
     "output_type": "execute_result"
    }
   ],
   "source": [
    "revenue.mean()"
   ]
  },
  {
   "cell_type": "markdown",
   "id": "3b6bb49e-ef4d-405f-9fe5-3f94f775c2f7",
   "metadata": {},
   "source": [
    "The Average Revenue amount per order is $7.46"
   ]
  },
  {
   "cell_type": "markdown",
   "id": "3b819466-8948-4775-8470-fc4a21a9fbe3",
   "metadata": {},
   "source": [
    "Looking at Sample Solution for STEP 16"
   ]
  },
  {
   "cell_type": "code",
   "execution_count": 127,
   "id": "b870e665-4102-4e3c-8577-ade6c67221fc",
   "metadata": {},
   "outputs": [
    {
     "data": {
      "text/plain": [
       "21.394231188658654"
      ]
     },
     "execution_count": 127,
     "metadata": {},
     "output_type": "execute_result"
    }
   ],
   "source": [
    "chipo['revenue'] = chipo['quantity'] * chipo['item_price']\n",
    "order_grouped = chipo.groupby(by=['order_id']).sum()\n",
    "order_grouped.mean()['revenue']"
   ]
  },
  {
   "cell_type": "markdown",
   "id": "29e41e1d-a0eb-4a0d-8685-bc058f2d7f67",
   "metadata": {},
   "source": [
    "### **Step 17. How many different items are sold?**"
   ]
  },
  {
   "cell_type": "code",
   "execution_count": 80,
   "id": "7e6a58a1-3b17-4fb0-9629-a3b27b98be3e",
   "metadata": {},
   "outputs": [
    {
     "data": {
      "text/plain": [
       "50"
      ]
     },
     "execution_count": 80,
     "metadata": {},
     "output_type": "execute_result"
    }
   ],
   "source": [
    "chipo['item_name'].nunique()"
   ]
  },
  {
   "cell_type": "markdown",
   "id": "e85a44bd-4a57-4379-8672-2afaa152ebf7",
   "metadata": {},
   "source": [
    "There are 50 different items sold."
   ]
  },
  {
   "cell_type": "markdown",
   "id": "9752444c-a933-485b-9ae7-f0ccd0ba8757",
   "metadata": {},
   "source": [
    "## Overall, I learned to understand the dataset more before performing operations on it and to better think about the questions before I answer, If I did that, then I would have gotten All these question right"
   ]
  },
  {
   "cell_type": "code",
   "execution_count": null,
   "id": "a74a3a5d-8835-4ec9-b483-6af45bbc6b74",
   "metadata": {},
   "outputs": [],
   "source": []
  }
 ],
 "metadata": {
  "kernelspec": {
   "display_name": "Python 3 (ipykernel)",
   "language": "python",
   "name": "python3"
  },
  "language_info": {
   "codemirror_mode": {
    "name": "ipython",
    "version": 3
   },
   "file_extension": ".py",
   "mimetype": "text/x-python",
   "name": "python",
   "nbconvert_exporter": "python",
   "pygments_lexer": "ipython3",
   "version": "3.8.12"
  }
 },
 "nbformat": 4,
 "nbformat_minor": 5
}
